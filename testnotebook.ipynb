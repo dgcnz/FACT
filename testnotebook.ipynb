{
 "cells": [
  {
   "cell_type": "code",
   "execution_count": 1,
   "metadata": {},
   "outputs": [
    {
     "name": "stdout",
     "output_type": "stream",
     "text": [
      "84.0159999999\n",
      "0.13024592117682562\n"
     ]
    }
   ],
   "source": [
    "accuracies = [84.25, 83.89, 83.95, 84.07, 84.04, 83.75, 84.099999999, 84.06, 84.1, 83.95]\n",
    "#compute mean and stds\n",
    "import numpy as np\n",
    "print(np.mean(accuracies))\n",
    "print(np.std(accuracies))"
   ]
  },
  {
   "cell_type": "code",
   "execution_count": 5,
   "metadata": {},
   "outputs": [
    {
     "name": "stdout",
     "output_type": "stream",
     "text": [
      "tensor([[0.8071, 0.1929],\n",
      "        [0.7674, 0.2326]])\n"
     ]
    }
   ],
   "source": [
    "import torch\n",
    "\n",
    "tens = torch.Tensor([[ 0.7593, -0.6719], [ 0.7367, -0.4568]])\n",
    "print(tens.softmax(dim=1))"
   ]
  },
  {
   "cell_type": "code",
   "execution_count": null,
   "metadata": {},
   "outputs": [],
   "source": []
  }
 ],
 "metadata": {
  "kernelspec": {
   "display_name": ".venv",
   "language": "python",
   "name": "python3"
  },
  "language_info": {
   "codemirror_mode": {
    "name": "ipython",
    "version": 3
   },
   "file_extension": ".py",
   "mimetype": "text/x-python",
   "name": "python",
   "nbconvert_exporter": "python",
   "pygments_lexer": "ipython3",
   "version": "3.11.7"
  }
 },
 "nbformat": 4,
 "nbformat_minor": 2
}
