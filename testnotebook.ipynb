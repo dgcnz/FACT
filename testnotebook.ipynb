{
 "cells": [
  {
   "cell_type": "code",
   "execution_count": 1,
   "metadata": {},
   "outputs": [
    {
     "name": "stdout",
     "output_type": "stream",
     "text": [
      "84.0159999999\n",
      "0.13024592117682562\n"
     ]
    }
   ],
   "source": [
    "accuracies = [84.25, 83.89, 83.95, 84.07, 84.04, 83.75, 84.099999999, 84.06, 84.1, 83.95]\n",
    "#compute mean and stds\n",
    "import numpy as np\n",
    "print(np.mean(accuracies))\n",
    "print(np.std(accuracies))"
   ]
  }
 ],
 "metadata": {
  "kernelspec": {
   "display_name": ".venv",
   "language": "python",
   "name": "python3"
  },
  "language_info": {
   "name": "python",
   "version": "3.9.13"
  }
 },
 "nbformat": 4,
 "nbformat_minor": 2
}
