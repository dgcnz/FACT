{
  "cells": [
    {
      "cell_type": "markdown",
      "metadata": {
        "id": "0NZu3LuJt-YB"
      },
      "source": [
        "# File Setup and Downloading"
      ]
    },
    {
      "cell_type": "markdown",
      "metadata": {},
      "source": [
        "This notebook, when run, will setup all the necessary installations in the environment. We need to first move outside of the \"notebooks\" directory. The process will differ slightly if currently utilizing Google Colab, which is automatically done below."
      ]
    },
    {
      "cell_type": "code",
      "execution_count": null,
      "metadata": {
        "id": "REBF9Gh8t-YC"
      },
      "outputs": [],
      "source": [
        "try:\n",
        "    import google.colab\n",
        "    IN_COLAB = True\n",
        "except:\n",
        "    IN_COLAB = False\n",
        "\n",
        "if IN_COLAB:\n",
        "    from google.colab import userdata\n",
        "    url = f\"https://{userdata.get('gh_pat')}@github.com/dgcnz/FACT.git\" # May need to be scrubbed\n",
        "    !git clone {url}\n",
        "    !pip install git+https://github.com/openai/CLIP.git # For the CLIP library\n",
        "    %cd FACT\n",
        "else:\n",
        "    %cd .. # May need to be fixed (dir keeps going one level higher)"
      ]
    },
    {
      "cell_type": "markdown",
      "metadata": {},
      "source": [
        "## Broden Concepts\n",
        "\n",
        "Note: There is a potential permission error which may arise when trying to download the files via this notebook. Manual downloading may be needed."
      ]
    },
    {
      "cell_type": "code",
      "execution_count": null,
      "metadata": {
        "colab": {
          "base_uri": "https://localhost:8080/"
        },
        "id": "DHOz6uLCt-YF",
        "outputId": "3dbc5173-f488-404d-e0bd-27637385eb16"
      },
      "outputs": [],
      "source": [
        "!python ./scripts/download_broden"
      ]
    },
    {
      "cell_type": "markdown",
      "metadata": {},
      "source": [
        "## COCO-Stuff Dataset\n",
        "\n",
        "*Note:* The dataset is around 20 GB in total. Ensure you have enough space on your device before attempting to download."
      ]
    },
    {
      "cell_type": "code",
      "execution_count": null,
      "metadata": {
        "colab": {
          "base_uri": "https://localhost:8080/"
        },
        "id": "xEm-yldNt-YF",
        "outputId": "69ecc50e-dc6c-44e9-bf6d-8d93ed774807"
      },
      "outputs": [],
      "source": [
        "# Get the COCO-stuff dataset (bash is needed to run the command below)\n",
        "!bash ./scripts/download_cocostuff"
      ]
    },
    {
      "cell_type": "markdown",
      "metadata": {},
      "source": [
        "## CUB Dataset"
      ]
    },
    {
      "cell_type": "code",
      "execution_count": null,
      "metadata": {},
      "outputs": [],
      "source": [
        "# Get the CUB dataset (bash is also needed here to run the command below)\n",
        "!bash ./scripts/download_cub"
      ]
    },
    {
      "cell_type": "markdown",
      "metadata": {},
      "source": [
        "## SIIM-ISIC Dataset\n",
        "\n",
        "_Note_: Only 2500 images of the 33,126 are needed, so it is recommended to preprocess the images somewhere if your device has limited storage capacity."
      ]
    },
    {
      "cell_type": "code",
      "execution_count": null,
      "metadata": {},
      "outputs": [],
      "source": [
        "# Get the CUB dataset (bash is also needed here to run the command below)\n",
        "!bash ./scripts/download_siim"
      ]
    }
  ],
  "metadata": {
    "accelerator": "GPU",
    "colab": {
      "gpuType": "T4",
      "provenance": []
    },
    "kernelspec": {
      "display_name": "Python 3",
      "name": "python3"
    },
    "language_info": {
      "codemirror_mode": {
        "name": "ipython",
        "version": 3
      },
      "file_extension": ".py",
      "mimetype": "text/x-python",
      "name": "python",
      "nbconvert_exporter": "python",
      "pygments_lexer": "ipython3",
      "version": "3.11.7"
    }
  },
  "nbformat": 4,
  "nbformat_minor": 0
}
