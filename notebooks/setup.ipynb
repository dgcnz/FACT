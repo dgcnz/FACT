{
  "cells": [
    {
      "cell_type": "markdown",
      "metadata": {
        "id": "0NZu3LuJt-YB"
      },
      "source": [
        "# File Setup"
      ]
    },
    {
      "cell_type": "markdown",
      "metadata": {},
      "source": [
        "This notebook, when run, will setup all the necessary installations in the environment. "
      ]
    },
    {
      "cell_type": "markdown",
      "metadata": {},
      "source": [
        "## COCO\n",
        "\n",
        "The following code has been adapted from:\n",
        "\n",
        "COCO-Stuff: Thing and Stuff Classes in Context.\n",
        "H. Caesar, J. Uijlings, V. Ferrari,\n",
        "_In Computer Vision and Pattern Recognition_ (CVPR), 2018."
      ]
    },
    {
      "cell_type": "code",
      "execution_count": 1,
      "metadata": {
        "colab": {
          "base_uri": "https://localhost:8080/"
        },
        "id": "xEm-yldNt-YF",
        "outputId": "69ecc50e-dc6c-44e9-bf6d-8d93ed774807"
      },
      "outputs": [
        {
          "name": "stderr",
          "output_type": "stream",
          "text": [
            "Cloning into 'cocostuff'...\n",
            "'wget' is not recognized as an internal or external command,\n",
            "operable program or batch file.\n",
            "'wget' is not recognized as an internal or external command,\n",
            "operable program or batch file.\n",
            "'wget' is not recognized as an internal or external command,\n",
            "operable program or batch file.\n",
            "The syntax of the command is incorrect.\n",
            "The syntax of the command is incorrect.\n",
            "'unzip' is not recognized as an internal or external command,\n",
            "operable program or batch file.\n",
            "'unzip' is not recognized as an internal or external command,\n",
            "operable program or batch file.\n",
            "'unzip' is not recognized as an internal or external command,\n",
            "operable program or batch file.\n"
          ]
        }
      ],
      "source": [
        "# Get this repo\n",
        "!git clone https://github.com/nightrome/cocostuff.git\n",
        "!cd cocostuff\n",
        "\n",
        "# Download everything\n",
        "!wget --directory-prefix=downloads http://images.cocodataset.org/zips/train2017.zip\n",
        "!wget --directory-prefix=downloads http://images.cocodataset.org/zips/val2017.zip\n",
        "!wget --directory-prefix=downloads http://calvin.inf.ed.ac.uk/wp-content/uploads/data/cocostuffdataset/stuffthingmaps_trainval2017.zip\n",
        "\n",
        "# Unpack everything\n",
        "!mkdir -p dataset/images\n",
        "!mkdir -p dataset/annotations\n",
        "!unzip downloads/train2017.zip -d dataset/images/\n",
        "!unzip downloads/val2017.zip -d dataset/images/\n",
        "!unzip downloads/stuffthingmaps_trainval2017.zip -d dataset/annotations/"
      ]
    },
    {
      "cell_type": "code",
      "execution_count": null,
      "metadata": {
        "colab": {
          "base_uri": "https://localhost:8080/"
        },
        "id": "DHOz6uLCt-YF",
        "outputId": "3dbc5173-f488-404d-e0bd-27637385eb16"
      },
      "outputs": [
        {
          "name": "stdout",
          "output_type": "stream",
          "text": [
            "Access denied with the following error:\n"
          ]
        },
        {
          "name": "stderr",
          "output_type": "stream",
          "text": [
            "\n",
            " \tCannot retrieve the public link of the file. You may need to change\n",
            "\tthe permission to 'Anyone with the link', or have had many accesses. \n",
            "\n",
            "You may still be able to access the file from the browser:\n",
            "\n",
            "\t https://drive.google.com/uc?id=1_yxGcveFcKetoB783H3iv3oiqXHYArT- \n",
            "\n",
            "Traceback (most recent call last):\n",
            "  File \"c:\\Users\\Gregory Go\\.github\\FACT\\scripts\\download_broden\", line 9, in <module>\n",
            "    with zipfile.ZipFile(output, 'r') as zip_ref:\n",
            "         ^^^^^^^^^^^^^^^^^^^^^^^^^^^^\n",
            "  File \"c:\\Users\\Gregory Go\\anaconda3\\envs\\fact\\Lib\\zipfile.py\", line 1284, in __init__\n",
            "    self.fp = io.open(file, filemode)\n",
            "              ^^^^^^^^^^^^^^^^^^^^^^^\n",
            "FileNotFoundError: [Errno 2] No such file or directory: 'artifacts/data/broden_concepts.zip'\n"
          ]
        }
      ],
      "source": [
        "!python ./scripts/download_broden"
      ]
    },
    {
      "cell_type": "code",
      "execution_count": 1,
      "metadata": {
        "id": "REBF9Gh8t-YC"
      },
      "outputs": [],
      "source": [
        "try:\n",
        "    import google.colab\n",
        "    IN_COLAB = True\n",
        "except:\n",
        "    IN_COLAB = False"
      ]
    },
    {
      "cell_type": "code",
      "execution_count": 2,
      "metadata": {
        "colab": {
          "base_uri": "https://localhost:8080/"
        },
        "id": "GL-hND4bt-YE",
        "outputId": "1fac5a37-01e0-408b-a1fd-8121cbe9865d"
      },
      "outputs": [
        {
          "name": "stdout",
          "output_type": "stream",
          "text": [
            "c:\\Users\\Gregory Go\\.github\\FACT\n"
          ]
        }
      ],
      "source": [
        "if IN_COLAB:\n",
        "    from google.colab import userdata\n",
        "    url = f\"https://{userdata.get('gh_pat')}@github.com/dgcnz/FACT.git\"\n",
        "    !git clone {url}\n",
        "    %cd FACT\n",
        "else:\n",
        "    %cd .."
      ]
    },
    {
      "cell_type": "markdown",
      "metadata": {
        "id": "xDN4TGNiwIEH"
      },
      "source": [
        "## Download data"
      ]
    },
    {
      "cell_type": "markdown",
      "metadata": {
        "id": "yDdJWaT3DboX"
      },
      "source": [
        "## Learning concepts with a concept dataset"
      ]
    },
    {
      "cell_type": "code",
      "execution_count": 11,
      "metadata": {
        "colab": {
          "base_uri": "https://localhost:8080/"
        },
        "id": "oE1-rhxyv_2b",
        "outputId": "fd2f54b1-bb29-4c59-f41a-40c28dd0cf2d"
      },
      "outputs": [
        {
          "name": "stdout",
          "output_type": "stream",
          "text": [
            "^C\n"
          ]
        }
      ],
      "source": [
        "!python learn_concepts_dataset.py \\\n",
        "  --dataset-name=\"broden\" \\\n",
        "  --backbone-name=\"clip:RN50\" \\\n",
        "  --C 0.001 0.01 0.1 1.0 10.0 \\\n",
        "  --n-samples=50 \\\n",
        "  --device=\"cpu\" \\\n",
        "  --out-dir=artifacts/outdir\n"
      ]
    }
  ],
  "metadata": {
    "accelerator": "GPU",
    "colab": {
      "gpuType": "T4",
      "provenance": []
    },
    "kernelspec": {
      "display_name": "Python 3",
      "name": "python3"
    },
    "language_info": {
      "codemirror_mode": {
        "name": "ipython",
        "version": 3
      },
      "file_extension": ".py",
      "mimetype": "text/x-python",
      "name": "python",
      "nbconvert_exporter": "python",
      "pygments_lexer": "ipython3",
      "version": "3.11.7"
    }
  },
  "nbformat": 4,
  "nbformat_minor": 0
}
