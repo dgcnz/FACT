{
  "cells": [
    {
      "cell_type": "markdown",
      "metadata": {
        "id": "lR0FkB4Ct-X_"
      },
      "source": [
        "# Playing with model editing"
      ]
    },
    {
      "cell_type": "code",
      "execution_count": 2,
      "metadata": {},
      "outputs": [
        {
          "name": "stdout",
          "output_type": "stream",
          "text": [
            "/Users/dgcnz/development/uva/fact/FACT\n",
            "LICENSE                               \u001b[34mlightning_logs\u001b[m\u001b[m/\n",
            "README.md                             \u001b[34mlogs\u001b[m\u001b[m/\n",
            "a.py                                  model_editing.out\n",
            "accuracies.csv                        \u001b[34mmodels\u001b[m\u001b[m/\n",
            "accuracies2.csv                       \u001b[34mnotebook\u001b[m\u001b[m/\n",
            "accuracies_final.csv                  \u001b[34mnotebooks\u001b[m\u001b[m/\n",
            "accuracies_rn18.csv                   \u001b[34mold_logs\u001b[m\u001b[m/\n",
            "\u001b[34martifacts\u001b[m\u001b[m/                            poetry.lock\n",
            "\u001b[34massets\u001b[m\u001b[m/                               pyproject.toml\n",
            "\u001b[34mconcepts\u001b[m\u001b[m/                             \u001b[34mscripts\u001b[m\u001b[m/\n",
            "\u001b[34mconfigs\u001b[m\u001b[m/                              \u001b[34mslurm\u001b[m\u001b[m/\n",
            "\u001b[34mdata\u001b[m\u001b[m/                                 test_cav_activation.py\n",
            "debug.log                             test_different_projections.py\n",
            "debug_finakl.log                      testnotebook.ipynb\n",
            "debug_rn18.log                        train_pcbm.py\n",
            "\u001b[34mdocs\u001b[m\u001b[m/                                 train_pcbm_h.py\n",
            "environment.yaml                      train_pcbm_userstudy.py\n",
            "evaluate_og_model.py                  \u001b[34mtraining_tools\u001b[m\u001b[m/\n",
            "\u001b[34mexperiments\u001b[m\u001b[m/                          verify_clip_pcbm_h.py\n",
            "\u001b[34mextension_scripts\u001b[m\u001b[m/                    verify_dataset_pcbm.py\n",
            "learn_concepts_dataset.py             verify_dataset_pcbm_h.py\n",
            "learn_concepts_multimodal.py          verify_results_clip_concepts_pcbm.py\n"
          ]
        },
        {
          "name": "stderr",
          "output_type": "stream",
          "text": [
            "/Users/dgcnz/development/uva/fact/FACT/.venv/lib/python3.11/site-packages/IPython/core/magics/osm.py:417: UserWarning: using dhist requires you to install the `pickleshare` library.\n",
            "  self.shell.db['dhist'] = compress_dhist(dhist)[-100:]\n"
          ]
        }
      ],
      "source": [
        "from pathlib import Path\n",
        "if Path().resolve().name == \"notebooks\":\n",
        "    %cd ..\n",
        "%ls\n",
        "import sys\n",
        "sys.path.append(\"models\")\n",
        "sys.path.append(\"data\")\n",
        "sys.path.append(\"concepts\")"
      ]
    },
    {
      "cell_type": "code",
      "execution_count": 25,
      "metadata": {},
      "outputs": [],
      "source": [
        "from concepts import ConceptBank\n",
        "import pickle\n",
        "import torch\n",
        "from models.pcbm_pl import PCBMClassifierTrainer\n",
        "from lightning import Trainer\n",
        "from data.metashift import MetaShiftDataModule, PreprocessorEnum\n",
        "from data.metashift import NNProjector\n",
        "from models.clip_encoder import CLIPImageEncoder\n",
        "from lightning.pytorch import seed_everything\n",
        "from models.resnet import ResNet18FeatureExtractor\n",
        "import matplotlib.pyplot as plt\n",
        "from models.pcbm_pl import analyze_classifier\n",
        "from renumics import spotlight\n",
        "from copy import deepcopy\n",
        "import torchmetrics\n",
        "from torchmetrics.classification import MulticlassConfusionMatrix, MulticlassAccuracy"
      ]
    },
    {
      "cell_type": "code",
      "execution_count": 26,
      "metadata": {},
      "outputs": [],
      "source": [
        "import logging\n",
        "logging.basicConfig(level=logging.INFO)"
      ]
    },
    {
      "cell_type": "code",
      "execution_count": 27,
      "metadata": {},
      "outputs": [],
      "source": [
        "# ckpt_path = Path(\"lightning_logs/task_1_bed_dog_cat/seed_55/version_0/checkpoints/epoch=9-step=320.ckpt\") # lam 0.05\n",
        "# ckpt_path = Path(\"lightning_logs/task_2_table_dog_cat/seed_42/version_23/checkpoints/epoch=9-step=320.ckpt\") # lam 1.7\n",
        "ckpt_path = Path(\"lightning_logs/task_1_bed_dog_cat/seed_101010/version_0/checkpoints/epoch=29-step=960.ckpt\") # lam 10\n",
        "concept_bank_path = Path(\"artifacts/outdir/broden_resnet18_imagenet1k_v1_0.1_50.pkl\")\n",
        "task_name = ckpt_path.parents[3].name"
      ]
    },
    {
      "cell_type": "code",
      "execution_count": 28,
      "metadata": {},
      "outputs": [
        {
          "name": "stderr",
          "output_type": "stream",
          "text": [
            "INFO:root:Attempting to load fact-40/pcbm_metashift/task_1_bed_dog_cat from cache .cache/fact-40/pcbm_metashift/task_1_bed_dog_cat/broden_resnet18_imagenet1k_v1_0.1_50\n",
            "INFO:root:Loaded fact-40/pcbm_metashift/task_1_bed_dog_cat from cache .cache/fact-40/pcbm_metashift/task_1_bed_dog_cat/broden_resnet18_imagenet1k_v1_0.1_50\n"
          ]
        },
        {
          "name": "stdout",
          "output_type": "stream",
          "text": [
            "Concept Bank is initialized.\n"
          ]
        }
      ],
      "source": [
        "metashift = MetaShiftDataModule(\n",
        "    task_name=task_name,\n",
        "    projector=NNProjector(\n",
        "        concept_bank_path=concept_bank_path,\n",
        "        backbone=ResNet18FeatureExtractor(),\n",
        "    ),\n",
        "    preprocessor_name=PreprocessorEnum.RESNET18_IMAGENET_1K_V1,\n",
        "    train_batch_size=16,\n",
        "    test_batch_size=64\n",
        ")\n",
        "metashift.setup(\"train\")\n",
        "class_names = metashift.dataset[\"train\"].info.features[\"label\"].names\n",
        "concept_names = metashift.projector.concept_names"
      ]
    },
    {
      "cell_type": "code",
      "execution_count": 29,
      "metadata": {},
      "outputs": [
        {
          "name": "stdout",
          "output_type": "stream",
          "text": [
            "bed@1: dog@72->cat@50\n"
          ]
        }
      ],
      "source": [
        "spurious_class, source_concept, target_concept = task_name.split(\"_\")[2:5]\n",
        "spurious_class_ix = class_names.index(spurious_class)\n",
        "source_concept_ix = concept_names.index(source_concept)\n",
        "target_concept_ix = concept_names.index(target_concept)\n",
        "print(f\"{spurious_class}@{spurious_class_ix}: {source_concept}@{source_concept_ix}->{target_concept}@{target_concept_ix}\")"
      ]
    },
    {
      "cell_type": "code",
      "execution_count": 30,
      "metadata": {},
      "outputs": [
        {
          "name": "stderr",
          "output_type": "stream",
          "text": [
            "INFO:root:Calling custom load_state_dict with []\n"
          ]
        }
      ],
      "source": [
        "trained_pcbm = PCBMClassifierTrainer.load_from_checkpoint(ckpt_path)"
      ]
    },
    {
      "cell_type": "code",
      "execution_count": 31,
      "metadata": {},
      "outputs": [
        {
          "name": "stderr",
          "output_type": "stream",
          "text": [
            "INFO:root:Calling custom load_state_dict with [(72, 1)]\n",
            "INFO:root:Pruned 72 1 from 1.6530123949050903 to 0.0\n"
          ]
        }
      ],
      "source": [
        "trained_pcbm_pruned = PCBMClassifierTrainer.load_from_checkpoint(ckpt_path, pruned_concept_class_pairs=[(source_concept_ix, spurious_class_ix)])\n",
        "# trained_pcbm_pruned_normalized = PCBMClassifierTrainer.load_from_checkpoint(ckpt_path, pruned_concept_class_pairs=[(50, 1)], normalize=True)"
      ]
    },
    {
      "cell_type": "code",
      "execution_count": 60,
      "metadata": {},
      "outputs": [],
      "source": [
        "# og_model_path = \"artifacts/outdir/pcbm_metashift_task_1_bed_dog_cat__resnet18_imagenet1k_v1__broden_resnet18_imagenet1k_v1_0__lam:0.002__alpha:0.99__seed:100.ckpt\"\n",
        "# og_model_path = \"artifacts/outdir/pcbm_metashift_task_1_bed_dog_cat__resnet18_imagenet1k_v1__broden_resnet18_imagenet1k_v1_0__lam:0.05__alpha:0.99__seed:101010.ckpt\"\n",
        "og_model_path = \"artifacts/outdir/pcbm_metashift_task_1_bed_dog_cat__resnet18_imagenet1k_v1__broden_resnet18_imagenet1k_v1_0__lam:0.0005__alpha:0.99__seed:0.ckpt\"\n",
        "with open(og_model_path, \"rb\") as f:\n",
        "    og_model = torch.load(f)\n",
        "\n",
        "og_model_pruned = deepcopy(og_model)\n",
        "with torch.no_grad():\n",
        "    og_model_pruned.classifier.weight[spurious_class_ix, source_concept_ix] = 0.0"
      ]
    },
    {
      "cell_type": "code",
      "execution_count": 67,
      "metadata": {},
      "outputs": [
        {
          "data": {
            "text/plain": [
              "<matplotlib.lines.Line2D at 0x2cbfd04d0>"
            ]
          },
          "execution_count": 67,
          "metadata": {},
          "output_type": "execute_result"
        },
        {
          "data": {
            "image/png": "[encoded data removed]",
            "text/plain": [
              "<Figure size 640x480 with 2 Axes>"
            ]
          },
          "metadata": {},
          "output_type": "display_data"
        }
      ],
      "source": [
        "fig, axes = plt.subplots(2)\n",
        "_ =  axes[0].hist(trained_pcbm.model.classifier.weight[spurious_class_ix].reshape(-1).cpu().detach().numpy(), bins=400)\n",
        "axes[0].axvline(x=trained_pcbm.model.classifier.weight[spurious_class_ix, source_concept_ix].item(), c=\"r\", alpha=0.2)\n",
        "_ = axes[1].hist(og_model.classifier.weight[spurious_class_ix].reshape(-1).cpu().detach().numpy(), bins=400)\n",
        "axes[1].axvline(x=og_model.classifier.weight[spurious_class_ix, source_concept_ix].item(), c=\"r\", alpha=0.2)\n"
      ]
    },
    {
      "cell_type": "code",
      "execution_count": 62,
      "metadata": {},
      "outputs": [
        {
          "data": {
            "text/plain": [
              "72"
            ]
          },
          "execution_count": 62,
          "metadata": {},
          "output_type": "execute_result"
        }
      ],
      "source": [
        "source_concept_ix"
      ]
    },
    {
      "cell_type": "code",
      "execution_count": 35,
      "metadata": {},
      "outputs": [
        {
          "name": "stdout",
          "output_type": "stream",
          "text": [
            "Class : airplane\n",
            "\t 1 - body: 2.529\n",
            "\t 2 - airplane: 2.158\n",
            "\t 3 - door_frame: 1.774\n",
            "\t 4 - mountain: 1.442\n",
            "\t 5 - painted: 0.959\n",
            "Class : bed\n",
            "\t 1 - dog: 1.653\n",
            "\t 2 - sofa: 1.009\n",
            "\t 3 - paw: 1.000\n",
            "\t 4 - armchair: 0.912\n",
            "\t 5 - bedclothes: 0.836\n",
            "Class : car\n",
            "\t 1 - ashcan: 0.966\n",
            "\t 2 - car: 0.938\n",
            "\t 3 - base: 0.744\n",
            "\t 4 - bus: 0.611\n",
            "\t 5 - fan: 0.606\n",
            "Class : cow\n",
            "\t 1 - horse: 2.166\n",
            "\t 2 - headboard: 1.485\n",
            "\t 3 - cow: 1.415\n",
            "\t 4 - cup: 1.300\n",
            "\t 5 - napkin: 1.000\n",
            "Class : keyboard\n",
            "\t 1 - keyboard: 2.793\n",
            "\t 2 - box: 0.753\n",
            "\t 3 - figurine: 0.615\n",
            "\t 4 - bookcase: 0.595\n",
            "\t 5 - polka_dots: 0.414\n"
          ]
        }
      ],
      "source": [
        "print(analyze_classifier(trained_pcbm.model, class_names=class_names, concept_names=concept_names))"
      ]
    },
    {
      "cell_type": "code",
      "execution_count": 49,
      "metadata": {},
      "outputs": [
        {
          "name": "stdout",
          "output_type": "stream",
          "text": [
            "tensor(0., grad_fn=<SelectBackward0>)\n",
            "Class : airplane\n",
            "\t 1 - body: 2.529\n",
            "\t 2 - airplane: 2.158\n",
            "\t 3 - door_frame: 1.774\n",
            "\t 4 - mountain: 1.442\n",
            "\t 5 - painted: 0.959\n",
            "Class : bed\n",
            "\t 1 - sofa: 1.009\n",
            "\t 2 - paw: 1.000\n",
            "\t 3 - armchair: 0.912\n",
            "\t 4 - bedclothes: 0.836\n",
            "\t 5 - cushion: 0.622\n",
            "Class : car\n",
            "\t 1 - ashcan: 0.966\n",
            "\t 2 - car: 0.938\n",
            "\t 3 - base: 0.744\n",
            "\t 4 - bus: 0.611\n",
            "\t 5 - fan: 0.606\n",
            "Class : cow\n",
            "\t 1 - horse: 2.166\n",
            "\t 2 - headboard: 1.485\n",
            "\t 3 - cow: 1.415\n",
            "\t 4 - cup: 1.300\n",
            "\t 5 - napkin: 1.000\n",
            "Class : keyboard\n",
            "\t 1 - keyboard: 2.793\n",
            "\t 2 - box: 0.753\n",
            "\t 3 - figurine: 0.615\n",
            "\t 4 - bookcase: 0.595\n",
            "\t 5 - polka_dots: 0.414\n"
          ]
        }
      ],
      "source": [
        "print(trained_pcbm_pruned.model.classifier.weight[spurious_class_ix, source_concept_ix])\n",
        "print(analyze_classifier(trained_pcbm_pruned.model, class_names=class_names, concept_names=concept_names))"
      ]
    },
    {
      "cell_type": "code",
      "execution_count": 59,
      "metadata": {},
      "outputs": [
        {
          "name": "stdout",
          "output_type": "stream",
          "text": [
            "Class : airplane\n",
            "\t 1 - jar: 0.625\n",
            "\t 2 - foot: 0.291\n",
            "\t 3 - paper: 0.287\n",
            "\t 4 - bumper: 0.237\n",
            "\t 5 - loudspeaker: 0.083\n",
            "Class : bed\n",
            "\t 1 - board: 0.585\n",
            "\t 2 - ground: 0.383\n",
            "\t 3 - bucket: 0.176\n",
            "\t 4 - air_conditioner: 0.000\n",
            "\t 5 - airplane: 0.000\n",
            "Class : car\n",
            "\t 1 - door: 0.400\n",
            "\t 2 - hill: 0.348\n",
            "\t 3 - desk: 0.235\n",
            "\t 4 - blackness: 0.193\n",
            "\t 5 - bedroom_s: 0.090\n",
            "Class : cow\n",
            "\t 1 - pipe: 0.400\n",
            "\t 2 - light: 0.328\n",
            "\t 3 - palm: 0.314\n",
            "\t 4 - minibike: 0.213\n",
            "\t 5 - armchair: 0.176\n",
            "Class : keyboard\n",
            "\t 1 - sofa: 0.634\n",
            "\t 2 - book: 0.494\n",
            "\t 3 - napkin: 0.472\n",
            "\t 4 - cabinet: 0.027\n",
            "\t 5 - air_conditioner: 0.000\n"
          ]
        }
      ],
      "source": [
        "print(og_model.analyze_classifier())"
      ]
    },
    {
      "cell_type": "code",
      "execution_count": 38,
      "metadata": {},
      "outputs": [
        {
          "name": "stdout",
          "output_type": "stream",
          "text": [
            "Class : airplane\n",
            "\t 1 - countertop: 48.426\n",
            "\t 2 - jar: 42.834\n",
            "\t 3 - head: 29.735\n",
            "\t 4 - paper: 28.554\n",
            "\t 5 - pillow: 27.190\n",
            "Class : bed\n",
            "\t 1 - board: 40.023\n",
            "\t 2 - greenness: 29.714\n",
            "\t 3 - car: 27.039\n",
            "\t 4 - bench: 24.294\n",
            "\t 5 - cardboard: 23.639\n",
            "Class : car\n",
            "\t 1 - neck: 30.661\n",
            "\t 2 - cat: 25.697\n",
            "\t 3 - refrigerator: 25.192\n",
            "\t 4 - desk: 21.744\n",
            "\t 5 - ear: 19.086\n",
            "Class : cow\n",
            "\t 1 - person: 31.037\n",
            "\t 2 - pipe: 21.502\n",
            "\t 3 - base: 20.145\n",
            "\t 4 - box: 18.387\n",
            "\t 5 - dining_room_s: 18.192\n",
            "Class : keyboard\n",
            "\t 1 - balcony: 26.593\n",
            "\t 2 - ottoman: 24.818\n",
            "\t 3 - outside_arm: 23.447\n",
            "\t 4 - exhaust_hood: 21.941\n",
            "\t 5 - sofa: 18.957\n"
          ]
        }
      ],
      "source": [
        "print(og_model_pruned.analyze_classifier())"
      ]
    },
    {
      "cell_type": "code",
      "execution_count": 45,
      "metadata": {},
      "outputs": [],
      "source": [
        "# ds = datasets.load_dataset(\"fact-40/pcbm_metashift\", name=task_name)\n",
        "# spotlight.show(ds[\"train\"])\n",
        "# spotlight.show(ds[\"test\"])"
      ]
    },
    {
      "cell_type": "code",
      "execution_count": 46,
      "metadata": {},
      "outputs": [],
      "source": [
        "x = og_model.classifier.weight[4].detach().cpu().reshape(-1).numpy().tolist()\n",
        "a = dict(list(sorted(zip(concept_names, x), key=lambda item: item[1], reverse=True)))"
      ]
    },
    {
      "cell_type": "code",
      "execution_count": 42,
      "metadata": {},
      "outputs": [
        {
          "data": {
            "text/plain": [
              "tensor(0., device='mps:0', grad_fn=<SelectBackward0>)"
            ]
          },
          "execution_count": 42,
          "metadata": {},
          "output_type": "execute_result"
        }
      ],
      "source": [
        "og_model.classifier.weight[spurious_class_ix, source_concept_ix]"
      ]
    },
    {
      "cell_type": "code",
      "execution_count": 72,
      "metadata": {},
      "outputs": [
        {
          "name": "stdout",
          "output_type": "stream",
          "text": [
            "tensor(0.9060)\n",
            "tensor(0.9120)\n"
          ]
        },
        {
          "name": "stderr",
          "output_type": "stream",
          "text": [
            "/Users/dgcnz/development/uva/fact/FACT/.venv/lib/python3.11/site-packages/torchvision/transforms/functional.py:1603: UserWarning: The default value of the antialias parameter of all the resizing transforms (Resize(), RandomResizedCrop(), etc.) will change from None to True in v0.17, in order to be consistent across the PIL and Tensor backends. To suppress this warning, directly pass antialias=True (recommended, future default), antialias=None (current default, which means False for Tensors and True for PIL), or antialias=False (only works on Tensors - PIL will still use antialiasing). This also applies if you are using the inference transforms from the models weights: update the call to weights.transforms(antialias=True).\n",
            "  warnings.warn(\n"
          ]
        },
        {
          "ename": "ValueError",
          "evalue": "Input and output must have the same number of spatial dimensions, but got input with spatial dimensions of [170] and output size of [879, 299]. Please provide input tensor in (N, C, d1, d2, ...,dK) format and output size in (o1, o2, ...,oK) format.",
          "output_type": "error",
          "traceback": [
            "\u001b[0;31m---------------------------------------------------------------------------\u001b[0m",
            "\u001b[0;31mValueError\u001b[0m                                Traceback (most recent call last)",
            "Cell \u001b[0;32mIn[72], line 40\u001b[0m\n\u001b[1;32m     37\u001b[0m pruned_cm(pruned_preds, targets)\n\u001b[1;32m     38\u001b[0m \u001b[38;5;28mprint\u001b[39m(pruned_acc(pruned_preds, targets))\n\u001b[0;32m---> 40\u001b[0m base_og_preds \u001b[38;5;241m=\u001b[39m og_model\u001b[38;5;241m.\u001b[39mclassifier(\u001b[43mtransform\u001b[49m\u001b[43m(\u001b[49m\u001b[43minputs\u001b[49m\u001b[43m)\u001b[49m)\n\u001b[1;32m     41\u001b[0m base_og_cm(base_og_preds, targets)\n\u001b[1;32m     42\u001b[0m \u001b[38;5;28mprint\u001b[39m(base_og_acc(base_og_preds, targets))\n",
            "File \u001b[0;32m~/development/uva/fact/FACT/.venv/lib/python3.11/site-packages/torch/nn/modules/module.py:1518\u001b[0m, in \u001b[0;36mModule._wrapped_call_impl\u001b[0;34m(self, *args, **kwargs)\u001b[0m\n\u001b[1;32m   1516\u001b[0m     \u001b[38;5;28;01mreturn\u001b[39;00m \u001b[38;5;28mself\u001b[39m\u001b[38;5;241m.\u001b[39m_compiled_call_impl(\u001b[38;5;241m*\u001b[39margs, \u001b[38;5;241m*\u001b[39m\u001b[38;5;241m*\u001b[39mkwargs)  \u001b[38;5;66;03m# type: ignore[misc]\u001b[39;00m\n\u001b[1;32m   1517\u001b[0m \u001b[38;5;28;01melse\u001b[39;00m:\n\u001b[0;32m-> 1518\u001b[0m     \u001b[38;5;28;01mreturn\u001b[39;00m \u001b[38;5;28;43mself\u001b[39;49m\u001b[38;5;241;43m.\u001b[39;49m\u001b[43m_call_impl\u001b[49m\u001b[43m(\u001b[49m\u001b[38;5;241;43m*\u001b[39;49m\u001b[43margs\u001b[49m\u001b[43m,\u001b[49m\u001b[43m \u001b[49m\u001b[38;5;241;43m*\u001b[39;49m\u001b[38;5;241;43m*\u001b[39;49m\u001b[43mkwargs\u001b[49m\u001b[43m)\u001b[49m\n",
            "File \u001b[0;32m~/development/uva/fact/FACT/.venv/lib/python3.11/site-packages/torch/nn/modules/module.py:1527\u001b[0m, in \u001b[0;36mModule._call_impl\u001b[0;34m(self, *args, **kwargs)\u001b[0m\n\u001b[1;32m   1522\u001b[0m \u001b[38;5;66;03m# If we don't have any hooks, we want to skip the rest of the logic in\u001b[39;00m\n\u001b[1;32m   1523\u001b[0m \u001b[38;5;66;03m# this function, and just call forward.\u001b[39;00m\n\u001b[1;32m   1524\u001b[0m \u001b[38;5;28;01mif\u001b[39;00m \u001b[38;5;129;01mnot\u001b[39;00m (\u001b[38;5;28mself\u001b[39m\u001b[38;5;241m.\u001b[39m_backward_hooks \u001b[38;5;129;01mor\u001b[39;00m \u001b[38;5;28mself\u001b[39m\u001b[38;5;241m.\u001b[39m_backward_pre_hooks \u001b[38;5;129;01mor\u001b[39;00m \u001b[38;5;28mself\u001b[39m\u001b[38;5;241m.\u001b[39m_forward_hooks \u001b[38;5;129;01mor\u001b[39;00m \u001b[38;5;28mself\u001b[39m\u001b[38;5;241m.\u001b[39m_forward_pre_hooks\n\u001b[1;32m   1525\u001b[0m         \u001b[38;5;129;01mor\u001b[39;00m _global_backward_pre_hooks \u001b[38;5;129;01mor\u001b[39;00m _global_backward_hooks\n\u001b[1;32m   1526\u001b[0m         \u001b[38;5;129;01mor\u001b[39;00m _global_forward_hooks \u001b[38;5;129;01mor\u001b[39;00m _global_forward_pre_hooks):\n\u001b[0;32m-> 1527\u001b[0m     \u001b[38;5;28;01mreturn\u001b[39;00m \u001b[43mforward_call\u001b[49m\u001b[43m(\u001b[49m\u001b[38;5;241;43m*\u001b[39;49m\u001b[43margs\u001b[49m\u001b[43m,\u001b[49m\u001b[43m \u001b[49m\u001b[38;5;241;43m*\u001b[39;49m\u001b[38;5;241;43m*\u001b[39;49m\u001b[43mkwargs\u001b[49m\u001b[43m)\u001b[49m\n\u001b[1;32m   1529\u001b[0m \u001b[38;5;28;01mtry\u001b[39;00m:\n\u001b[1;32m   1530\u001b[0m     result \u001b[38;5;241m=\u001b[39m \u001b[38;5;28;01mNone\u001b[39;00m\n",
            "File \u001b[0;32m~/development/uva/fact/FACT/.venv/lib/python3.11/site-packages/torchvision/transforms/transforms.py:361\u001b[0m, in \u001b[0;36mResize.forward\u001b[0;34m(self, img)\u001b[0m\n\u001b[1;32m    353\u001b[0m \u001b[38;5;28;01mdef\u001b[39;00m \u001b[38;5;21mforward\u001b[39m(\u001b[38;5;28mself\u001b[39m, img):\n\u001b[1;32m    354\u001b[0m \u001b[38;5;250m    \u001b[39m\u001b[38;5;124;03m\"\"\"\u001b[39;00m\n\u001b[1;32m    355\u001b[0m \u001b[38;5;124;03m    Args:\u001b[39;00m\n\u001b[1;32m    356\u001b[0m \u001b[38;5;124;03m        img (PIL Image or Tensor): Image to be scaled.\u001b[39;00m\n\u001b[0;32m   (...)\u001b[0m\n\u001b[1;32m    359\u001b[0m \u001b[38;5;124;03m        PIL Image or Tensor: Rescaled image.\u001b[39;00m\n\u001b[1;32m    360\u001b[0m \u001b[38;5;124;03m    \"\"\"\u001b[39;00m\n\u001b[0;32m--> 361\u001b[0m     \u001b[38;5;28;01mreturn\u001b[39;00m \u001b[43mF\u001b[49m\u001b[38;5;241;43m.\u001b[39;49m\u001b[43mresize\u001b[49m\u001b[43m(\u001b[49m\u001b[43mimg\u001b[49m\u001b[43m,\u001b[49m\u001b[43m \u001b[49m\u001b[38;5;28;43mself\u001b[39;49m\u001b[38;5;241;43m.\u001b[39;49m\u001b[43msize\u001b[49m\u001b[43m,\u001b[49m\u001b[43m \u001b[49m\u001b[38;5;28;43mself\u001b[39;49m\u001b[38;5;241;43m.\u001b[39;49m\u001b[43minterpolation\u001b[49m\u001b[43m,\u001b[49m\u001b[43m \u001b[49m\u001b[38;5;28;43mself\u001b[39;49m\u001b[38;5;241;43m.\u001b[39;49m\u001b[43mmax_size\u001b[49m\u001b[43m,\u001b[49m\u001b[43m \u001b[49m\u001b[38;5;28;43mself\u001b[39;49m\u001b[38;5;241;43m.\u001b[39;49m\u001b[43mantialias\u001b[49m\u001b[43m)\u001b[49m\n",
            "File \u001b[0;32m~/development/uva/fact/FACT/.venv/lib/python3.11/site-packages/torchvision/transforms/functional.py:492\u001b[0m, in \u001b[0;36mresize\u001b[0;34m(img, size, interpolation, max_size, antialias)\u001b[0m\n\u001b[1;32m    489\u001b[0m     pil_interpolation \u001b[38;5;241m=\u001b[39m pil_modes_mapping[interpolation]\n\u001b[1;32m    490\u001b[0m     \u001b[38;5;28;01mreturn\u001b[39;00m F_pil\u001b[38;5;241m.\u001b[39mresize(img, size\u001b[38;5;241m=\u001b[39moutput_size, interpolation\u001b[38;5;241m=\u001b[39mpil_interpolation)\n\u001b[0;32m--> 492\u001b[0m \u001b[38;5;28;01mreturn\u001b[39;00m \u001b[43mF_t\u001b[49m\u001b[38;5;241;43m.\u001b[39;49m\u001b[43mresize\u001b[49m\u001b[43m(\u001b[49m\u001b[43mimg\u001b[49m\u001b[43m,\u001b[49m\u001b[43m \u001b[49m\u001b[43msize\u001b[49m\u001b[38;5;241;43m=\u001b[39;49m\u001b[43moutput_size\u001b[49m\u001b[43m,\u001b[49m\u001b[43m \u001b[49m\u001b[43minterpolation\u001b[49m\u001b[38;5;241;43m=\u001b[39;49m\u001b[43minterpolation\u001b[49m\u001b[38;5;241;43m.\u001b[39;49m\u001b[43mvalue\u001b[49m\u001b[43m,\u001b[49m\u001b[43m \u001b[49m\u001b[43mantialias\u001b[49m\u001b[38;5;241;43m=\u001b[39;49m\u001b[43mantialias\u001b[49m\u001b[43m)\u001b[49m\n",
            "File \u001b[0;32m~/development/uva/fact/FACT/.venv/lib/python3.11/site-packages/torchvision/transforms/_functional_tensor.py:467\u001b[0m, in \u001b[0;36mresize\u001b[0;34m(img, size, interpolation, antialias)\u001b[0m\n\u001b[1;32m    464\u001b[0m \u001b[38;5;66;03m# Define align_corners to avoid warnings\u001b[39;00m\n\u001b[1;32m    465\u001b[0m align_corners \u001b[38;5;241m=\u001b[39m \u001b[38;5;28;01mFalse\u001b[39;00m \u001b[38;5;28;01mif\u001b[39;00m interpolation \u001b[38;5;129;01min\u001b[39;00m [\u001b[38;5;124m\"\u001b[39m\u001b[38;5;124mbilinear\u001b[39m\u001b[38;5;124m\"\u001b[39m, \u001b[38;5;124m\"\u001b[39m\u001b[38;5;124mbicubic\u001b[39m\u001b[38;5;124m\"\u001b[39m] \u001b[38;5;28;01melse\u001b[39;00m \u001b[38;5;28;01mNone\u001b[39;00m\n\u001b[0;32m--> 467\u001b[0m img \u001b[38;5;241m=\u001b[39m \u001b[43minterpolate\u001b[49m\u001b[43m(\u001b[49m\u001b[43mimg\u001b[49m\u001b[43m,\u001b[49m\u001b[43m \u001b[49m\u001b[43msize\u001b[49m\u001b[38;5;241;43m=\u001b[39;49m\u001b[43msize\u001b[49m\u001b[43m,\u001b[49m\u001b[43m \u001b[49m\u001b[43mmode\u001b[49m\u001b[38;5;241;43m=\u001b[39;49m\u001b[43minterpolation\u001b[49m\u001b[43m,\u001b[49m\u001b[43m \u001b[49m\u001b[43malign_corners\u001b[49m\u001b[38;5;241;43m=\u001b[39;49m\u001b[43malign_corners\u001b[49m\u001b[43m,\u001b[49m\u001b[43m \u001b[49m\u001b[43mantialias\u001b[49m\u001b[38;5;241;43m=\u001b[39;49m\u001b[43mantialias\u001b[49m\u001b[43m)\u001b[49m\n\u001b[1;32m    469\u001b[0m \u001b[38;5;28;01mif\u001b[39;00m interpolation \u001b[38;5;241m==\u001b[39m \u001b[38;5;124m\"\u001b[39m\u001b[38;5;124mbicubic\u001b[39m\u001b[38;5;124m\"\u001b[39m \u001b[38;5;129;01mand\u001b[39;00m out_dtype \u001b[38;5;241m==\u001b[39m torch\u001b[38;5;241m.\u001b[39muint8:\n\u001b[1;32m    470\u001b[0m     img \u001b[38;5;241m=\u001b[39m img\u001b[38;5;241m.\u001b[39mclamp(\u001b[38;5;28mmin\u001b[39m\u001b[38;5;241m=\u001b[39m\u001b[38;5;241m0\u001b[39m, \u001b[38;5;28mmax\u001b[39m\u001b[38;5;241m=\u001b[39m\u001b[38;5;241m255\u001b[39m)\n",
            "File \u001b[0;32m~/development/uva/fact/FACT/.venv/lib/python3.11/site-packages/torch/nn/functional.py:3916\u001b[0m, in \u001b[0;36minterpolate\u001b[0;34m(input, size, scale_factor, mode, align_corners, recompute_scale_factor, antialias)\u001b[0m\n\u001b[1;32m   3914\u001b[0m \u001b[38;5;28;01mif\u001b[39;00m \u001b[38;5;28misinstance\u001b[39m(size, (\u001b[38;5;28mlist\u001b[39m, \u001b[38;5;28mtuple\u001b[39m)):\n\u001b[1;32m   3915\u001b[0m     \u001b[38;5;28;01mif\u001b[39;00m \u001b[38;5;28mlen\u001b[39m(size) \u001b[38;5;241m!=\u001b[39m dim:\n\u001b[0;32m-> 3916\u001b[0m         \u001b[38;5;28;01mraise\u001b[39;00m \u001b[38;5;167;01mValueError\u001b[39;00m(\n\u001b[1;32m   3917\u001b[0m             \u001b[38;5;124m\"\u001b[39m\u001b[38;5;124mInput and output must have the same number of spatial dimensions, but got \u001b[39m\u001b[38;5;124m\"\u001b[39m\n\u001b[1;32m   3918\u001b[0m             \u001b[38;5;124mf\u001b[39m\u001b[38;5;124m\"\u001b[39m\u001b[38;5;124minput with spatial dimensions of \u001b[39m\u001b[38;5;132;01m{\u001b[39;00m\u001b[38;5;28mlist\u001b[39m(\u001b[38;5;28minput\u001b[39m\u001b[38;5;241m.\u001b[39mshape[\u001b[38;5;241m2\u001b[39m:])\u001b[38;5;132;01m}\u001b[39;00m\u001b[38;5;124m and output size of \u001b[39m\u001b[38;5;132;01m{\u001b[39;00msize\u001b[38;5;132;01m}\u001b[39;00m\u001b[38;5;124m. \u001b[39m\u001b[38;5;124m\"\u001b[39m\n\u001b[1;32m   3919\u001b[0m             \u001b[38;5;124m\"\u001b[39m\u001b[38;5;124mPlease provide input tensor in (N, C, d1, d2, ...,dK) format and \u001b[39m\u001b[38;5;124m\"\u001b[39m\n\u001b[1;32m   3920\u001b[0m             \u001b[38;5;124m\"\u001b[39m\u001b[38;5;124moutput size in (o1, o2, ...,oK) format.\u001b[39m\u001b[38;5;124m\"\u001b[39m\n\u001b[1;32m   3921\u001b[0m         )\n\u001b[1;32m   3922\u001b[0m     \u001b[38;5;28;01mif\u001b[39;00m \u001b[38;5;129;01mnot\u001b[39;00m torch\u001b[38;5;241m.\u001b[39mjit\u001b[38;5;241m.\u001b[39mis_scripting():\n\u001b[1;32m   3923\u001b[0m         \u001b[38;5;28;01mif\u001b[39;00m \u001b[38;5;129;01mnot\u001b[39;00m \u001b[38;5;28mall\u001b[39m(_is_integer(x) \u001b[38;5;28;01mfor\u001b[39;00m x \u001b[38;5;129;01min\u001b[39;00m size):\n",
            "\u001b[0;31mValueError\u001b[0m: Input and output must have the same number of spatial dimensions, but got input with spatial dimensions of [170] and output size of [879, 299]. Please provide input tensor in (N, C, d1, d2, ...,dK) format and output size in (o1, o2, ...,oK) format."
          ]
        }
      ],
      "source": [
        "# with torch.no_grad():\n",
        "#     trained_pcbm_pruned.model.classifier.weight[1, 50] = 0.\n",
        "#     trained_pcbm_pruned_normalized.model.classifier.weight[1, 50] = 0.\n",
        "# with torch.no_grad():\n",
        "#      trained_pcbm.model.classifier.weight = og_model.classifier.weight\n",
        "#      trained_pcbm_pruned.model.classifier.weight = og_model.classifier.weight\n",
        "#      trained_pcbm_pruned.model.classifier.weight[4, 72] = 0.0\n",
        "#     trained_pcbm_pruned_normalized.model.classifier.weight = og_model.classifier.weight\n",
        "from torchvision import transforms\n",
        "with torch.no_grad():\n",
        "    trained_pcbm.to(\"cpu\")\n",
        "    trained_pcbm_pruned.to(\"cpu\")\n",
        "    og_model.to(\"cpu\")\n",
        "    og_model_pruned.to(\"cpu\")\n",
        "    # trained_pcbm_pruned_normalized.to(\"cpu\")\n",
        "    base_cm = MulticlassConfusionMatrix(num_classes=5, normalize=\"none\")\n",
        "    pruned_cm = MulticlassConfusionMatrix(num_classes=5, normalize=\"none\")\n",
        "    base_acc = MulticlassAccuracy(num_classes=5)\n",
        "    pruned_acc = MulticlassAccuracy(num_classes=5)\n",
        "\n",
        "    base_og_cm = MulticlassConfusionMatrix(num_classes=5, normalize=\"none\")\n",
        "    pruned_og_cm = MulticlassConfusionMatrix(num_classes=5, normalize=\"none\")\n",
        "    base_og_acc = MulticlassAccuracy(num_classes=5)\n",
        "    pruned_og_acc = MulticlassAccuracy(num_classes=5)\n",
        "    # norm_cm = MulticlassConfusionMatrix(num_classes=5, normalize=\"none\")\n",
        "\n",
        "    batch = metashift.dataset[\"train\"]\n",
        "    inputs = batch[\"concept_weights\"]\n",
        "    targets = batch[\"label\"]\n",
        "\n",
        "    base_preds = trained_pcbm(batch)\n",
        "    base_cm(base_preds, targets)\n",
        "    print(base_acc(base_preds, targets))\n",
        "\n",
        "    pruned_preds = trained_pcbm_pruned(batch)\n",
        "    pruned_cm(pruned_preds, targets)\n",
        "    print(pruned_acc(pruned_preds, targets))\n",
        "\n",
        "    base_og_preds = og_model.classifier(inputs)\n",
        "    base_og_cm(base_og_preds, targets)\n",
        "    print(base_og_acc(base_og_preds, targets))\n",
        "\n",
        "    pruned_og_preds = og_model_pruned.classifier(inputs)\n",
        "    pruned_og_cm(pruned_og_preds, targets)\n",
        "    print(pruned_og_acc(pruned_og_preds, targets))\n",
        "\n",
        "fig, axes = plt.subplots(2, 2,)# figsize=(12, 8))\n",
        "base_cm.plot(ax=axes[0][0])\n",
        "axes[0][0].title.set_text(\"Base\")\n",
        "pruned_cm.plot(ax=axes[0][1])\n",
        "axes[0][1].title.set_text(\"Pruned\")\n",
        "\n",
        "base_og_cm.plot(ax=axes[1][0])\n",
        "axes[1][0].title.set_text(\"Base\")\n",
        "pruned_og_cm.plot(ax=axes[1][1])\n",
        "axes[1][1].title.set_text(\"Pruned\")\n",
        "\n",
        "plt.show()\n"
      ]
    },
    {
      "cell_type": "code",
      "execution_count": null,
      "metadata": {},
      "outputs": [],
      "source": [
        "metashift."
      ]
    },
    {
      "cell_type": "code",
      "execution_count": 50,
      "metadata": {},
      "outputs": [],
      "source": [
        "base_cm = MulticlassConfusionMatrix(num_classes=5, normalize=\"none\")\n",
        "base"
      ]
    },
    {
      "cell_type": "code",
      "execution_count": 66,
      "metadata": {},
      "outputs": [],
      "source": [
        "base_cm.update(base_preds, targets)"
      ]
    },
    {
      "cell_type": "code",
      "execution_count": 67,
      "metadata": {},
      "outputs": [
        {
          "data": {
            "text/plain": [
              "(<Figure size 640x480 with 1 Axes>,\n",
              " <Axes: xlabel='Predicted class', ylabel='True class'>)"
            ]
          },
          "execution_count": 67,
          "metadata": {},
          "output_type": "execute_result"
        },
        {
          "data": {
            "image/png": "[encoded data removed]",
            "text/plain": [
              "<Figure size 640x480 with 1 Axes>"
            ]
          },
          "metadata": {},
          "output_type": "display_data"
        }
      ],
      "source": [
        "base_cm.plot()"
      ]
    },
    {
      "cell_type": "code",
      "execution_count": 58,
      "metadata": {},
      "outputs": [],
      "source": [
        "base_cm.reset()"
      ]
    },
    {
      "cell_type": "code",
      "execution_count": 191,
      "metadata": {},
      "outputs": [
        {
          "name": "stdout",
          "output_type": "stream",
          "text": [
            "tensor([ -96.3905, -206.2929,   98.1887, -141.7721,   -7.0952])\n",
            "tensor([ -96.3905, -206.2929,   98.1887, -141.7721,   -7.0952])\n"
          ]
        }
      ],
      "source": [
        "print(base_preds[2])\n",
        "print(pruned_preds[2])"
      ]
    },
    {
      "cell_type": "code",
      "execution_count": 86,
      "metadata": {},
      "outputs": [
        {
          "data": {
            "text/plain": [
              "['airplane', 'bed', 'car', 'cow', 'keyboard']"
            ]
          },
          "execution_count": 86,
          "metadata": {},
          "output_type": "execute_result"
        }
      ],
      "source": [
        "class_names"
      ]
    },
    {
      "cell_type": "code",
      "execution_count": 144,
      "metadata": {},
      "outputs": [],
      "source": []
    },
    {
      "cell_type": "code",
      "execution_count": 21,
      "metadata": {},
      "outputs": [
        {
          "name": "stderr",
          "output_type": "stream",
          "text": [
            "GPU available: True (mps), used: True\n",
            "TPU available: False, using: 0 TPU cores\n",
            "IPU available: False, using: 0 IPUs\n",
            "HPU available: False, using: 0 HPUs\n"
          ]
        }
      ],
      "source": [
        "trainer = Trainer(deterministic=True)"
      ]
    },
    {
      "cell_type": "code",
      "execution_count": 22,
      "metadata": {},
      "outputs": [],
      "source": [
        "SEED = 55"
      ]
    },
    {
      "cell_type": "code",
      "execution_count": 23,
      "metadata": {},
      "outputs": [
        {
          "name": "stderr",
          "output_type": "stream",
          "text": [
            "Seed set to 55\n",
            "INFO:root:Attempting to load fact-40/pcbm_metashift/task_1_bed_cat_dog from cache .cache/fact-40/pcbm_metashift/task_1_bed_cat_dog/broden_resnet18_imagenet1k_v1_0.1_50\n",
            "INFO:root:Loaded fact-40/pcbm_metashift/task_1_bed_cat_dog from cache .cache/fact-40/pcbm_metashift/task_1_bed_cat_dog/broden_resnet18_imagenet1k_v1_0.1_50\n",
            "/Users/dgcnz/development/uva/fact/FACT/.venv/lib/python3.11/site-packages/lightning/pytorch/trainer/connectors/data_connector.py:441: The 'test_dataloader' does not have many workers which may be a bottleneck. Consider increasing the value of the `num_workers` argument` to `num_workers=7` in the `DataLoader` to improve performance.\n"
          ]
        },
        {
          "data": {
            "application/vnd.jupyter.widget-view+json": {
              "model_id": "34487dbd98054bc6a2525f117ef4f3ca",
              "version_major": 2,
              "version_minor": 0
            },
            "text/plain": [
              "Testing: |          | 0/? [00:00<?, ?it/s]"
            ]
          },
          "metadata": {},
          "output_type": "display_data"
        },
        {
          "data": {
            "text/html": [
              "<pre style=\"white-space:pre;overflow-x:auto;line-height:normal;font-family:Menlo,'DejaVu Sans Mono',consolas,'Courier New',monospace\">┏━━━━━━━━━━━━━━━━━━━━━━━━━━━┳━━━━━━━━━━━━━━━━━━━━━━━━━━━┓\n",
              "┃<span style=\"font-weight: bold\">        Test metric        </span>┃<span style=\"font-weight: bold\">       DataLoader 0        </span>┃\n",
              "┡━━━━━━━━━━━━━━━━━━━━━━━━━━━╇━━━━━━━━━━━━━━━━━━━━━━━━━━━┩\n",
              "│<span style=\"color: #008080; text-decoration-color: #008080\">       test_accuracy       </span>│<span style=\"color: #800080; text-decoration-color: #800080\">    0.8040000200271606     </span>│\n",
              "└───────────────────────────┴───────────────────────────┘\n",
              "</pre>\n"
            ],
            "text/plain": [
              "┏━━━━━━━━━━━━━━━━━━━━━━━━━━━┳━━━━━━━━━━━━━━━━━━━━━━━━━━━┓\n",
              "┃\u001b[1m \u001b[0m\u001b[1m       Test metric       \u001b[0m\u001b[1m \u001b[0m┃\u001b[1m \u001b[0m\u001b[1m      DataLoader 0       \u001b[0m\u001b[1m \u001b[0m┃\n",
              "┡━━━━━━━━━━━━━━━━━━━━━━━━━━━╇━━━━━━━━━━━━━━━━━━━━━━━━━━━┩\n",
              "│\u001b[36m \u001b[0m\u001b[36m      test_accuracy      \u001b[0m\u001b[36m \u001b[0m│\u001b[35m \u001b[0m\u001b[35m   0.8040000200271606    \u001b[0m\u001b[35m \u001b[0m│\n",
              "└───────────────────────────┴───────────────────────────┘\n"
            ]
          },
          "metadata": {},
          "output_type": "display_data"
        },
        {
          "data": {
            "text/plain": [
              "[{'test_accuracy': 0.8040000200271606}]"
            ]
          },
          "execution_count": 23,
          "metadata": {},
          "output_type": "execute_result"
        }
      ],
      "source": [
        "seed_everything(SEED)\n",
        "trainer.test(trained_pcbm, metashift)"
      ]
    },
    {
      "cell_type": "code",
      "execution_count": 8,
      "metadata": {},
      "outputs": [],
      "source": [
        "pcbm_trainer = PCBMClassifierTrainer(n_concepts=170, n_classes=5, lr=0.05, lam=0.05, alpha=0.99)\n"
      ]
    },
    {
      "cell_type": "code",
      "execution_count": 10,
      "metadata": {},
      "outputs": [
        {
          "name": "stderr",
          "output_type": "stream",
          "text": [
            "Seed set to 42\n",
            "GPU available: True (mps), used: True\n",
            "TPU available: False, using: 0 TPU cores\n",
            "IPU available: False, using: 0 IPUs\n",
            "HPU available: False, using: 0 HPUs\n"
          ]
        }
      ],
      "source": [
        "seed_everything(42)\n",
        "trainer = Trainer(deterministic=True, max_epochs=30)"
      ]
    },
    {
      "cell_type": "code",
      "execution_count": 60,
      "metadata": {},
      "outputs": [],
      "source": [
        "seed = 100"
      ]
    },
    {
      "cell_type": "code",
      "execution_count": 61,
      "metadata": {},
      "outputs": [
        {
          "name": "stderr",
          "output_type": "stream",
          "text": [
            "Seed set to 100\n",
            "\n",
            "  | Name  | Type           | Params\n",
            "-----------------------------------------\n",
            "0 | model | PCBMClassifier | 855   \n",
            "1 | loss  | PCBMLoss       | 855   \n",
            "-----------------------------------------\n",
            "855       Trainable params\n",
            "0         Non-trainable params\n",
            "855       Total params\n",
            "0.003     Total estimated model params size (MB)\n"
          ]
        },
        {
          "data": {
            "application/vnd.jupyter.widget-view+json": {
              "model_id": "1eef6bef45394ac68c2f67ee858547ee",
              "version_major": 2,
              "version_minor": 0
            },
            "text/plain": [
              "Sanity Checking: |          | 0/? [00:00<?, ?it/s]"
            ]
          },
          "metadata": {},
          "output_type": "display_data"
        },
        {
          "name": "stderr",
          "output_type": "stream",
          "text": [
            "`Trainer.fit` stopped: `max_epochs=30` reached.\n"
          ]
        }
      ],
      "source": [
        "seed_everything(seed)\n",
        "trainer.fit(pcbm_trainer, metashift)"
      ]
    },
    {
      "cell_type": "code",
      "execution_count": 62,
      "metadata": {},
      "outputs": [
        {
          "name": "stderr",
          "output_type": "stream",
          "text": [
            "Seed set to 100\n",
            "/Users/dgcnz/development/uva/fact/FACT/.venv/lib/python3.11/site-packages/lightning/pytorch/trainer/connectors/data_connector.py:441: The 'test_dataloader' does not have many workers which may be a bottleneck. Consider increasing the value of the `num_workers` argument` to `num_workers=7` in the `DataLoader` to improve performance.\n"
          ]
        },
        {
          "data": {
            "application/vnd.jupyter.widget-view+json": {
              "model_id": "f420e5ea441949d2bf83cf151363687e",
              "version_major": 2,
              "version_minor": 0
            },
            "text/plain": [
              "Testing: |          | 0/? [00:00<?, ?it/s]"
            ]
          },
          "metadata": {},
          "output_type": "display_data"
        },
        {
          "data": {
            "text/html": [
              "<pre style=\"white-space:pre;overflow-x:auto;line-height:normal;font-family:Menlo,'DejaVu Sans Mono',consolas,'Courier New',monospace\">┏━━━━━━━━━━━━━━━━━━━━━━━━━━━┳━━━━━━━━━━━━━━━━━━━━━━━━━━━┓\n",
              "┃<span style=\"font-weight: bold\">        Test metric        </span>┃<span style=\"font-weight: bold\">       DataLoader 0        </span>┃\n",
              "┡━━━━━━━━━━━━━━━━━━━━━━━━━━━╇━━━━━━━━━━━━━━━━━━━━━━━━━━━┩\n",
              "│<span style=\"color: #008080; text-decoration-color: #008080\">       test_accuracy       </span>│<span style=\"color: #800080; text-decoration-color: #800080\">    0.8939999938011169     </span>│\n",
              "└───────────────────────────┴───────────────────────────┘\n",
              "</pre>\n"
            ],
            "text/plain": [
              "┏━━━━━━━━━━━━━━━━━━━━━━━━━━━┳━━━━━━━━━━━━━━━━━━━━━━━━━━━┓\n",
              "┃\u001b[1m \u001b[0m\u001b[1m       Test metric       \u001b[0m\u001b[1m \u001b[0m┃\u001b[1m \u001b[0m\u001b[1m      DataLoader 0       \u001b[0m\u001b[1m \u001b[0m┃\n",
              "┡━━━━━━━━━━━━━━━━━━━━━━━━━━━╇━━━━━━━━━━━━━━━━━━━━━━━━━━━┩\n",
              "│\u001b[36m \u001b[0m\u001b[36m      test_accuracy      \u001b[0m\u001b[36m \u001b[0m│\u001b[35m \u001b[0m\u001b[35m   0.8939999938011169    \u001b[0m\u001b[35m \u001b[0m│\n",
              "└───────────────────────────┴───────────────────────────┘\n"
            ]
          },
          "metadata": {},
          "output_type": "display_data"
        }
      ],
      "source": [
        "seed_everything(seed)\n",
        "out = trainer.test(pcbm_trainer, metashift)"
      ]
    },
    {
      "cell_type": "code",
      "execution_count": 63,
      "metadata": {},
      "outputs": [
        {
          "name": "stdout",
          "output_type": "stream",
          "text": [
            "[{'test_accuracy': 0.8939999938011169}]\n"
          ]
        }
      ],
      "source": [
        "print(out)"
      ]
    },
    {
      "cell_type": "code",
      "execution_count": 64,
      "metadata": {},
      "outputs": [
        {
          "data": {
            "text/plain": [
              "'/Users/dgcnz/development/uva/fact/FACT/lightning_logs/version_1/checkpoints/epoch=29-step=960.ckpt'"
            ]
          },
          "execution_count": 64,
          "metadata": {},
          "output_type": "execute_result"
        }
      ],
      "source": [
        "trainer.checkpoint_callback.best_model_path"
      ]
    },
    {
      "cell_type": "code",
      "execution_count": 65,
      "metadata": {},
      "outputs": [],
      "source": [
        "pcbm_trainer_pruned = PCBMClassifierTrainer.load_from_checkpoint(trainer.checkpoint_callback.best_model_path,\n",
        "                                                          pruned_concept_class_pairs=[(128, 1)]\n",
        "                                                         )"
      ]
    },
    {
      "cell_type": "code",
      "execution_count": 66,
      "metadata": {},
      "outputs": [
        {
          "data": {
            "text/plain": [
              "tensor(0., device='mps:0', grad_fn=<SelectBackward0>)"
            ]
          },
          "execution_count": 66,
          "metadata": {},
          "output_type": "execute_result"
        }
      ],
      "source": [
        "pcbm_trainer_pruned.model.classifier.weight[1, 128]"
      ]
    },
    {
      "cell_type": "code",
      "execution_count": 67,
      "metadata": {},
      "outputs": [
        {
          "data": {
            "text/plain": [
              "tensor(1.2930, grad_fn=<SelectBackward0>)"
            ]
          },
          "execution_count": 67,
          "metadata": {},
          "output_type": "execute_result"
        }
      ],
      "source": [
        "pcbm_trainer.model.classifier.weight[1, 128]"
      ]
    },
    {
      "cell_type": "code",
      "execution_count": 68,
      "metadata": {},
      "outputs": [
        {
          "name": "stderr",
          "output_type": "stream",
          "text": [
            "Seed set to 100\n"
          ]
        },
        {
          "data": {
            "application/vnd.jupyter.widget-view+json": {
              "model_id": "1dc50fa0b7eb42a5b3c17290053c1995",
              "version_major": 2,
              "version_minor": 0
            },
            "text/plain": [
              "Testing: |          | 0/? [00:00<?, ?it/s]"
            ]
          },
          "metadata": {},
          "output_type": "display_data"
        },
        {
          "data": {
            "text/html": [
              "<pre style=\"white-space:pre;overflow-x:auto;line-height:normal;font-family:Menlo,'DejaVu Sans Mono',consolas,'Courier New',monospace\">┏━━━━━━━━━━━━━━━━━━━━━━━━━━━┳━━━━━━━━━━━━━━━━━━━━━━━━━━━┓\n",
              "┃<span style=\"font-weight: bold\">        Test metric        </span>┃<span style=\"font-weight: bold\">       DataLoader 0        </span>┃\n",
              "┡━━━━━━━━━━━━━━━━━━━━━━━━━━━╇━━━━━━━━━━━━━━━━━━━━━━━━━━━┩\n",
              "│<span style=\"color: #008080; text-decoration-color: #008080\">       test_accuracy       </span>│<span style=\"color: #800080; text-decoration-color: #800080\">    0.8980000019073486     </span>│\n",
              "└───────────────────────────┴───────────────────────────┘\n",
              "</pre>\n"
            ],
            "text/plain": [
              "┏━━━━━━━━━━━━━━━━━━━━━━━━━━━┳━━━━━━━━━━━━━━━━━━━━━━━━━━━┓\n",
              "┃\u001b[1m \u001b[0m\u001b[1m       Test metric       \u001b[0m\u001b[1m \u001b[0m┃\u001b[1m \u001b[0m\u001b[1m      DataLoader 0       \u001b[0m\u001b[1m \u001b[0m┃\n",
              "┡━━━━━━━━━━━━━━━━━━━━━━━━━━━╇━━━━━━━━━━━━━━━━━━━━━━━━━━━┩\n",
              "│\u001b[36m \u001b[0m\u001b[36m      test_accuracy      \u001b[0m\u001b[36m \u001b[0m│\u001b[35m \u001b[0m\u001b[35m   0.8980000019073486    \u001b[0m\u001b[35m \u001b[0m│\n",
              "└───────────────────────────┴───────────────────────────┘\n"
            ]
          },
          "metadata": {},
          "output_type": "display_data"
        }
      ],
      "source": [
        "seed_everything(seed)\n",
        "pruned_out = trainer.test(pcbm_trainer_pruned, metashift)"
      ]
    },
    {
      "cell_type": "code",
      "execution_count": null,
      "metadata": {},
      "outputs": [],
      "source": []
    },
    {
      "cell_type": "code",
      "execution_count": 16,
      "metadata": {},
      "outputs": [
        {
          "name": "stdout",
          "output_type": "stream",
          "text": [
            "lightning_logs/task_1_bed_dog_cat/seed_42/version_6/checkpoints/epoch=19-step=640.ckpt\n"
          ]
        }
      ],
      "source": [
        "path = Path(\"lightning_logs/task_1_bed_dog_cat/seed_42/version_6/checkpoints/epoch=19-step=640.ckpt\")\n",
        "print(path)\n",
        "pcbm = PCBMClassifierTrainer.load_from_checkpoint(str(path))"
      ]
    },
    {
      "cell_type": "code",
      "execution_count": null,
      "metadata": {},
      "outputs": [],
      "source": []
    },
    {
      "cell_type": "code",
      "execution_count": 4,
      "metadata": {},
      "outputs": [],
      "source": [
        "from models.resnet import ResNet18FeatureExtractor"
      ]
    },
    {
      "cell_type": "code",
      "execution_count": 8,
      "metadata": {},
      "outputs": [
        {
          "name": "stdout",
          "output_type": "stream",
          "text": [
            "Concept Bank is initialized.\n"
          ]
        }
      ],
      "source": [
        "CONCEPT_BANK = \"artifacts/outdir/broden_resnet18_imagenet1k_v1_0.1_50.pkl\"\n",
        "all_concepts = pickle.load(open(CONCEPT_BANK, 'rb'))\n",
        "all_concept_names = list(all_concepts.keys())\n",
        "concept_bank = ConceptBank(all_concepts, args.device)"
      ]
    },
    {
      "cell_type": "code",
      "execution_count": 11,
      "metadata": {},
      "outputs": [
        {
          "name": "stdout",
          "output_type": "stream",
          "text": [
            "Concept Bank is initialized.\n"
          ]
        }
      ],
      "source": [
        "metashift_resnet18 = MetaShiftDataModule(\n",
        "    task_name=\"task_1_bed_dog_cat\",\n",
        "    projector=NNProjector(\n",
        "        concept_bank_path=\"artifacts/outdir/broden_resnet18_imagenet1k_v1_0.1_50.pkl\",\n",
        "        backbone=ResNet18FeatureExtractor(),\n",
        "    ),\n",
        "    preprocessor_name=PreprocessorEnum.RESNET18_IMAGENET_1K_V1,\n",
        "    train_batch_size=16,\n",
        "    test_batch_size=64\n",
        ")\n",
        "metashift_resnet18.setup(\"test\")"
      ]
    },
    {
      "cell_type": "code",
      "execution_count": 12,
      "metadata": {},
      "outputs": [
        {
          "name": "stdout",
          "output_type": "stream",
          "text": [
            "Concept Bank is initialized.\n"
          ]
        }
      ],
      "source": [
        "metashift_resnet50 = MetaShiftDataModule(\n",
        "    task_name=\"task_1_bed_dog_cat\",\n",
        "    projector=NNProjector(\n",
        "        concept_bank_path=\"artifacts/outdir/broden_clip_RN50_10.0_50.pkl\",\n",
        "        backbone=CLIPImageEncoder(model_name=\"RN50\"),\n",
        "    ),\n",
        "    preprocessor_name=PreprocessorEnum.CLIP_RESNET50,\n",
        "    train_batch_size=16,\n",
        "    test_batch_size=64\n",
        ")\n",
        "metashift_resnet50.setup(\"test\")"
      ]
    },
    {
      "cell_type": "code",
      "execution_count": 8,
      "metadata": {},
      "outputs": [
        {
          "data": {
            "text/plain": [
              "dict"
            ]
          },
          "execution_count": 8,
          "metadata": {},
          "output_type": "execute_result"
        }
      ],
      "source": [
        "import pickle\n",
        "with open(\"artifacts/outdir/broden_clip_RN50_10.0_50.pkl\", \"rb\") as f:\n",
        "    concept_dict = pickle.load(f)"
      ]
    },
    {
      "cell_type": "code",
      "execution_count": 14,
      "metadata": {},
      "outputs": [
        {
          "name": "stdout",
          "output_type": "stream",
          "text": [
            "50\n",
            "72\n",
            "30\n"
          ]
        }
      ],
      "source": [
        "cons = [\"cat\", \"dog\", \"book\"]\n",
        "for con in cons:\n",
        "    print(metashift_resnet18.projector.concept_names.index(con))"
      ]
    },
    {
      "cell_type": "code",
      "execution_count": 15,
      "metadata": {},
      "outputs": [
        {
          "name": "stdout",
          "output_type": "stream",
          "text": [
            "50\n",
            "72\n",
            "30\n"
          ]
        }
      ],
      "source": [
        "for con in cons:\n",
        "    print(metashift_resnet50.projector.concept_names.index(con))"
      ]
    },
    {
      "cell_type": "code",
      "execution_count": 18,
      "metadata": {},
      "outputs": [
        {
          "data": {
            "text/plain": [
              "tensor(-0.3531, device='mps:0', grad_fn=<SelectBackward0>)"
            ]
          },
          "execution_count": 18,
          "metadata": {},
          "output_type": "execute_result"
        }
      ],
      "source": [
        "pcbm.model.classifier.weight[1, 72]"
      ]
    },
    {
      "cell_type": "code",
      "execution_count": 17,
      "metadata": {},
      "outputs": [
        {
          "name": "stdout",
          "output_type": "stream",
          "text": [
            "Class : airplane\n",
            "\t 1 - jar: 2.947\n",
            "\t 2 - pillow: 1.865\n",
            "\t 3 - ceramic: 1.854\n",
            "\t 4 - hair: 1.734\n",
            "\t 5 - paper: 1.538\n",
            "Class : bed\n",
            "\t 1 - mouse: 2.838\n",
            "\t 2 - clock: 2.642\n",
            "\t 3 - bus: 2.136\n",
            "\t 4 - balcony: 1.924\n",
            "\t 5 - bicycle: 1.461\n",
            "Class : car\n",
            "\t 1 - handle: 1.552\n",
            "\t 2 - chandelier: 1.310\n",
            "\t 3 - headlight: 1.309\n",
            "\t 4 - bench: 1.294\n",
            "\t 5 - fireplace: 1.251\n",
            "Class : cow\n",
            "\t 1 - redness: 1.824\n",
            "\t 2 - field: 1.820\n",
            "\t 3 - bird: 1.780\n",
            "\t 4 - bedclothes: 1.732\n",
            "\t 5 - minibike: 1.701\n",
            "Class : keyboard\n",
            "\t 1 - sofa: 2.877\n",
            "\t 2 - laminate: 2.399\n",
            "\t 3 - bicycle: 2.219\n",
            "\t 4 - blotchy: 1.948\n",
            "\t 5 - air_conditioner: 1.788\n"
          ]
        }
      ],
      "source": [
        "s =analyze_classifier(\n",
        "    pcbm.model,\n",
        "    concept_names=metashift_resnet18.projector.concept_names,\n",
        "    class_names=metashift_resnet18.dataset[\"train\"].info.features[\"label\"].names,\n",
        ")\n",
        "print(s)"
      ]
    },
    {
      "cell_type": "code",
      "execution_count": 10,
      "metadata": {},
      "outputs": [
        {
          "data": {
            "text/plain": [
              "['cat',\n",
              " 'paper',\n",
              " 'apron',\n",
              " 'microwave',\n",
              " 'tree',\n",
              " 'pane',\n",
              " 'lamp',\n",
              " 'polka_dots',\n",
              " 'flowerpot',\n",
              " 'fluorescent',\n",
              " 'hand',\n",
              " 'drawer',\n",
              " 'fireplace',\n",
              " 'figurine',\n",
              " 'blind',\n",
              " 'bench',\n",
              " 'basket',\n",
              " 'footboard',\n",
              " 'chandelier',\n",
              " 'handle_bar',\n",
              " 'flag',\n",
              " 'bedclothes',\n",
              " 'drinking_glass',\n",
              " 'car',\n",
              " 'chain_wheel',\n",
              " 'can',\n",
              " 'balcony',\n",
              " 'eye',\n",
              " 'bed',\n",
              " 'pipe',\n",
              " 'box',\n",
              " 'cup',\n",
              " 'manhole',\n",
              " 'granite',\n",
              " 'desk',\n",
              " 'back',\n",
              " 'greenness',\n",
              " 'cushion',\n",
              " 'ceramic',\n",
              " 'water',\n",
              " 'dog',\n",
              " 'plant',\n",
              " 'board',\n",
              " 'handle',\n",
              " 'metal',\n",
              " 'foot',\n",
              " 'concrete',\n",
              " 'armchair',\n",
              " 'curtain',\n",
              " 'ground',\n",
              " 'person',\n",
              " 'pedestal',\n",
              " 'grass',\n",
              " 'stripes',\n",
              " 'flower',\n",
              " 'bridge',\n",
              " 'ottoman',\n",
              " 'blotchy',\n",
              " 'redness',\n",
              " 'coffee_table',\n",
              " 'path',\n",
              " 'cardboard',\n",
              " 'cabinet',\n",
              " 'laminate',\n",
              " 'jar',\n",
              " 'body',\n",
              " 'outside_arm',\n",
              " 'oven',\n",
              " 'pack',\n",
              " 'chair',\n",
              " 'exhaust_hood',\n",
              " 'napkin',\n",
              " 'paw',\n",
              " 'bus',\n",
              " 'chest_of_drawers',\n",
              " 'hill',\n",
              " 'plate',\n",
              " 'frame',\n",
              " 'nose',\n",
              " 'mouth',\n",
              " 'column',\n",
              " 'doorframe',\n",
              " 'headlight',\n",
              " 'loudspeaker',\n",
              " 'motorbike',\n",
              " 'inside_arm',\n",
              " 'pillar',\n",
              " 'double_door',\n",
              " 'carpet',\n",
              " 'field',\n",
              " 'dining_room_s',\n",
              " 'mouse',\n",
              " 'ear',\n",
              " 'bookcase',\n",
              " 'head',\n",
              " 'countertop',\n",
              " 'ceiling',\n",
              " 'coach',\n",
              " 'air_conditioner',\n",
              " 'toilet',\n",
              " 'glass',\n",
              " 'headboard',\n",
              " 'cap',\n",
              " 'painted',\n",
              " 'pillow',\n",
              " 'sofa',\n",
              " 'bowl',\n",
              " 'painting',\n",
              " 'bucket',\n",
              " 'bird',\n",
              " 'lid',\n",
              " 'earth',\n",
              " 'fence',\n",
              " 'chimney',\n",
              " 'bathroom_s',\n",
              " 'brick',\n",
              " 'minibike',\n",
              " 'airplane',\n",
              " 'awning',\n",
              " 'food',\n",
              " 'book',\n",
              " 'candlestick',\n",
              " 'leg',\n",
              " 'house',\n",
              " 'street_s',\n",
              " 'neck',\n",
              " 'blurriness',\n",
              " 'door_frame',\n",
              " 'eyebrow',\n",
              " 'bumper',\n",
              " 'muzzle',\n",
              " 'light',\n",
              " 'bathtub',\n",
              " 'faucet',\n",
              " 'fabric',\n",
              " 'bush',\n",
              " 'fan',\n",
              " 'leather',\n",
              " 'floor',\n",
              " 'bedroom_s',\n",
              " 'snow',\n",
              " 'knob',\n",
              " 'counter',\n",
              " 'canopy',\n",
              " 'bicycle',\n",
              " 'arm',\n",
              " 'beak',\n",
              " 'bannister',\n",
              " 'mountain',\n",
              " 'computer',\n",
              " 'blackness',\n",
              " 'ashcan',\n",
              " 'bag',\n",
              " 'refrigerator',\n",
              " 'blueness',\n",
              " 'horse',\n",
              " 'engine',\n",
              " 'stairs',\n",
              " 'bottle',\n",
              " 'cow',\n",
              " 'base',\n",
              " 'back_pillow',\n",
              " 'hair',\n",
              " 'keyboard',\n",
              " 'clock',\n",
              " 'palm',\n",
              " 'building',\n",
              " 'door',\n",
              " 'mirror',\n",
              " 'sand']"
            ]
          },
          "execution_count": 10,
          "metadata": {},
          "output_type": "execute_result"
        }
      ],
      "source": [
        "concept_bank.concept_info.concept_names"
      ]
    },
    {
      "cell_type": "code",
      "execution_count": null,
      "metadata": {},
      "outputs": [],
      "source": [
        "analyze_classifier(pcbm.model, class_names=)"
      ]
    },
    {
      "cell_type": "code",
      "execution_count": null,
      "metadata": {},
      "outputs": [],
      "source": [
        "cktp_path =\"lightning_logs/task_1_bed_cat_dog/seed_55/version_0/checkpoints/epoch=320.ckpt\"\n"
      ]
    }
  ],
  "metadata": {
    "accelerator": "GPU",
    "colab": {
      "gpuType": "T4",
      "provenance": []
    },
    "kernelspec": {
      "display_name": "Python 3",
      "name": "python3"
    },
    "language_info": {
      "codemirror_mode": {
        "name": "ipython",
        "version": 3
      },
      "file_extension": ".py",
      "mimetype": "text/x-python",
      "name": "python",
      "nbconvert_exporter": "python",
      "pygments_lexer": "ipython3",
      "version": "3.11.3"
    }
  },
  "nbformat": 4,
  "nbformat_minor": 0
}
