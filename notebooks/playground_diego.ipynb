{
  "cells": [
    {
      "cell_type": "markdown",
      "metadata": {
        "id": "lR0FkB4Ct-X_"
      },
      "source": [
        "# Playing with model editing"
      ]
    },
    {
      "cell_type": "code",
      "execution_count": 1,
      "metadata": {},
      "outputs": [
        {
          "name": "stdout",
          "output_type": "stream",
          "text": [
            "/Users/dgcnz/development/uva/fact/FACT\n",
            "LICENSE                               \u001b[34mnotebook\u001b[m\u001b[m/\n",
            "README.md                             \u001b[34mnotebooks\u001b[m\u001b[m/\n",
            "\u001b[34martifacts\u001b[m\u001b[m/                            poetry.lock\n",
            "\u001b[34massets\u001b[m\u001b[m/                               pyproject.toml\n",
            "\u001b[34mconcepts\u001b[m\u001b[m/                             \u001b[34mscripts\u001b[m\u001b[m/\n",
            "\u001b[34mconfigs\u001b[m\u001b[m/                              test_cav_activation.py\n",
            "\u001b[34mdata\u001b[m\u001b[m/                                 test_different_projections.py\n",
            "\u001b[34mdocs\u001b[m\u001b[m/                                 testnotebook.ipynb\n",
            "environment.yaml                      train_pcbm.py\n",
            "\u001b[34mexperiments\u001b[m\u001b[m/                          train_pcbm_h.py\n",
            "\u001b[34mextension_scripts\u001b[m\u001b[m/                    \u001b[34mtraining_tools\u001b[m\u001b[m/\n",
            "learn_concepts_dataset.py             verify_clip_pcbm_h.py\n",
            "learn_concepts_multimodal.py          verify_dataset_pcbm.py\n",
            "\u001b[34mlightning_logs\u001b[m\u001b[m/                       verify_dataset_pcbm_h.py\n",
            "\u001b[34mmodels\u001b[m\u001b[m/                               verify_results_clip_concepts_pcbm.py\n"
          ]
        },
        {
          "name": "stderr",
          "output_type": "stream",
          "text": [
            "/Users/dgcnz/development/uva/fact/FACT/.venv/lib/python3.11/site-packages/IPython/core/magics/osm.py:417: UserWarning: using dhist requires you to install the `pickleshare` library.\n",
            "  self.shell.db['dhist'] = compress_dhist(dhist)[-100:]\n"
          ]
        }
      ],
      "source": [
        "from pathlib import Path\n",
        "if Path().resolve().name == \"notebooks\":\n",
        "    %cd ..\n",
        "%ls\n",
        "import sys\n",
        "sys.path.append(\"models\")\n",
        "sys.path.append(\"data\")\n",
        "sys.path.append(\"concepts\")"
      ]
    },
    {
      "cell_type": "code",
      "execution_count": 2,
      "metadata": {},
      "outputs": [],
      "source": [
        "from models import PosthocLinearCBM, get_model\n",
        "from collections import namedtuple\n",
        "from data import get_dataset\n",
        "from concepts import ConceptBank\n",
        "import pickle\n",
        "import torch"
      ]
    },
    {
      "cell_type": "code",
      "execution_count": null,
      "metadata": {},
      "outputs": [],
      "source": []
    },
    {
      "cell_type": "code",
      "execution_count": 3,
      "metadata": {},
      "outputs": [
        {
          "name": "stdout",
          "output_type": "stream",
          "text": [
            "Bank path: artifacts/outdir/broden_clip_RN50_10.0_50.pkl. 170 concepts will be used.\n",
            "Concept Bank is initialized.\n",
            "Files already downloaded and verified\n",
            "Files already downloaded and verified\n"
          ]
        }
      ],
      "source": [
        "BACKBONE_NAME = \"clip:RN50\"\n",
        "DEVICE = \"cpu\"\n",
        "CONCEPT_BANK = \"artifacts/outdir/broden_clip_RN50_10.0_50.pkl\"\n",
        "PCBM_PATH = \"artifacts/outdir/pcbm_cifar10__clip_RN50__broden_clip_RN50_10__lam_0.0002__alpha_0.99__seed_42.ckpt\"\n",
        "args = namedtuple(\n",
        "    \"Args\",\n",
        "    [\n",
        "        \"out_dir\",\n",
        "        \"device\",\n",
        "        \"dataset\",\n",
        "        \"batch_size\",\n",
        "        \"num_workers\",\n",
        "    ],\n",
        ")(\n",
        "    out_dir=\"artifacts/outdir\",\n",
        "    device=DEVICE,\n",
        "    dataset=\"cifar10\",\n",
        "    batch_size=64,\n",
        "    num_workers=4,\n",
        ")\n",
        "all_concepts = pickle.load(open(CONCEPT_BANK, 'rb'))\n",
        "all_concept_names = list(all_concepts.keys())\n",
        "print(f\"Bank path: {CONCEPT_BANK}. {len(all_concept_names)} concepts will be used.\")\n",
        "concept_bank = ConceptBank(all_concepts, args.device)\n",
        "backbone, preprocess = get_model(args, backbone_name=BACKBONE_NAME)\n",
        "train_loader, test_loader, idx_to_class, classes = get_dataset(args, preprocess)\n",
        "num_classes = len(classes)\n",
        "backbone = backbone.to(DEVICE)\n",
        "backbone.eval()\n",
        "# posthoc_layer = PosthocLinearCBM(\n",
        "#     concept_bank,\n",
        "#     backbone_name=BACKBONE_NAME,\n",
        "#     idx_to_class=idx_to_class,\n",
        "#     n_classes=num_classes,\n",
        "# )\n",
        "# posthoc_layer = posthoc_layer.to(args.device)\n",
        "posthoc_layer = torch.load(PCBM_PATH, map_location=torch.device('cpu'))"
      ]
    },
    {
      "cell_type": "code",
      "execution_count": 4,
      "metadata": {},
      "outputs": [
        {
          "name": "stdout",
          "output_type": "stream",
          "text": [
            "170\n"
          ]
        }
      ],
      "source": [
        "print(len(concept_bank.concept_names))"
      ]
    },
    {
      "cell_type": "code",
      "execution_count": 11,
      "metadata": {},
      "outputs": [
        {
          "data": {
            "text/plain": [
              "86"
            ]
          },
          "execution_count": 11,
          "metadata": {},
          "output_type": "execute_result"
        }
      ],
      "source": [
        "d = dict(zip(concept_bank.concept_names, list(range(len(concept_bank.concept_names)))))\n",
        "d[\"dog\"]"
      ]
    },
    {
      "cell_type": "code",
      "execution_count": 13,
      "metadata": {},
      "outputs": [
        {
          "data": {
            "text/plain": [
              "7"
            ]
          },
          "execution_count": 13,
          "metadata": {},
          "output_type": "execute_result"
        }
      ],
      "source": [
        "d[\"book\"]"
      ]
    },
    {
      "cell_type": "code",
      "execution_count": 15,
      "metadata": {},
      "outputs": [
        {
          "data": {
            "text/plain": [
              "['door_frame',\n",
              " 'concrete',\n",
              " 'horse',\n",
              " 'food',\n",
              " 'oven',\n",
              " 'mouse',\n",
              " 'bedroom_s',\n",
              " 'book',\n",
              " 'chain_wheel',\n",
              " 'blueness']"
            ]
          },
          "execution_count": 15,
          "metadata": {},
          "output_type": "execute_result"
        }
      ],
      "source": [
        "list(d.keys())[:10]"
      ]
    },
    {
      "cell_type": "code",
      "execution_count": 11,
      "metadata": {},
      "outputs": [
        {
          "data": {
            "text/plain": [
              "{0: 'airplane',\n",
              " 1: 'automobile',\n",
              " 2: 'bird',\n",
              " 3: 'cat',\n",
              " 4: 'deer',\n",
              " 5: 'dog',\n",
              " 6: 'frog',\n",
              " 7: 'horse',\n",
              " 8: 'ship',\n",
              " 9: 'truck'}"
            ]
          },
          "execution_count": 11,
          "metadata": {},
          "output_type": "execute_result"
        }
      ],
      "source": [
        "idx_to_class"
      ]
    },
    {
      "cell_type": "code",
      "execution_count": 10,
      "metadata": {},
      "outputs": [
        {
          "data": {
            "text/plain": [
              "(1, 1024)"
            ]
          },
          "execution_count": 10,
          "metadata": {},
          "output_type": "execute_result"
        }
      ],
      "source": [
        "all_concepts[\"door_frame\"][0].shape"
      ]
    },
    {
      "cell_type": "code",
      "execution_count": null,
      "metadata": {},
      "outputs": [],
      "source": [
        "all_concepts[\"\"]"
      ]
    },
    {
      "cell_type": "code",
      "execution_count": 47,
      "metadata": {},
      "outputs": [
        {
          "data": {
            "text/plain": [
              "PosthocLinearCBM(\n",
              "  (classifier): Linear(in_features=170, out_features=10, bias=True)\n",
              ")"
            ]
          },
          "execution_count": 47,
          "metadata": {},
          "output_type": "execute_result"
        }
      ],
      "source": [
        "posthoc_layer.eval()"
      ]
    },
    {
      "cell_type": "code",
      "execution_count": 53,
      "metadata": {},
      "outputs": [
        {
          "data": {
            "text/plain": [
              "torch.Size([10, 170])"
            ]
          },
          "execution_count": 53,
          "metadata": {},
          "output_type": "execute_result"
        }
      ],
      "source": [
        "posthoc_layer.classifier.weight.shape"
      ]
    },
    {
      "cell_type": "code",
      "execution_count": 49,
      "metadata": {},
      "outputs": [
        {
          "data": {
            "text/plain": [
              "['Class : airplane',\n",
              " '\\t 1 - airplane: 13.058',\n",
              " '\\t 2 - body: 5.333',\n",
              " '\\t 3 - bench: 5.237',\n",
              " '\\t 4 - fluorescent: 5.024',\n",
              " '\\t 5 - building: 4.217',\n",
              " 'Class : automobile',\n",
              " '\\t 1 - headlight: 13.475',\n",
              " '\\t 2 - car: 7.165',\n",
              " '\\t 3 - door: 4.991',\n",
              " '\\t 4 - flower: 3.321',\n",
              " '\\t 5 - motorbike: 3.272',\n",
              " 'Class : bird',\n",
              " '\\t 1 - bird: 9.885',\n",
              " '\\t 2 - house: 7.090',\n",
              " '\\t 3 - foot: 6.455',\n",
              " '\\t 4 - ashcan: 4.173',\n",
              " '\\t 5 - handle_bar: 3.579',\n",
              " 'Class : cat',\n",
              " '\\t 1 - cat: 9.937',\n",
              " '\\t 2 - foot: 6.573',\n",
              " '\\t 3 - floor: 6.013',\n",
              " '\\t 4 - street_s: 4.118',\n",
              " '\\t 5 - ceramic: 3.946',\n",
              " 'Class : deer',\n",
              " '\\t 1 - street_s: 8.018',\n",
              " '\\t 2 - tree: 6.953',\n",
              " '\\t 3 - engine: 6.178',\n",
              " '\\t 4 - clock: 5.866',\n",
              " '\\t 5 - pipe: 5.183',\n",
              " 'Class : dog',\n",
              " '\\t 1 - paw: 8.105',\n",
              " '\\t 2 - muzzle: 6.343',\n",
              " '\\t 3 - board: 6.019',\n",
              " '\\t 4 - exhaust_hood: 5.522',\n",
              " '\\t 5 - keyboard: 5.193',\n",
              " 'Class : frog',\n",
              " '\\t 1 - hand: 6.303',\n",
              " '\\t 2 - greenness: 6.221',\n",
              " '\\t 3 - food: 4.601',\n",
              " '\\t 4 - carpet: 4.462',\n",
              " '\\t 5 - pipe: 4.129',\n",
              " 'Class : horse',\n",
              " '\\t 1 - horse: 8.484',\n",
              " '\\t 2 - building: 6.793',\n",
              " '\\t 3 - bucket: 4.013',\n",
              " '\\t 4 - headboard: 3.812',\n",
              " '\\t 5 - hand: 3.763',\n",
              " 'Class : ship',\n",
              " '\\t 1 - water: 6.174',\n",
              " '\\t 2 - basket: 5.461',\n",
              " '\\t 3 - chest_of_drawers: 5.299',\n",
              " '\\t 4 - desk: 4.303',\n",
              " '\\t 5 - laminate: 4.194',\n",
              " 'Class : truck',\n",
              " '\\t 1 - can: 5.840',\n",
              " '\\t 2 - headboard: 5.174',\n",
              " '\\t 3 - pedestal: 4.189',\n",
              " '\\t 4 - field: 4.028',\n",
              " '\\t 5 - chain_wheel: 3.747']"
            ]
          },
          "execution_count": 49,
          "metadata": {},
          "output_type": "execute_result"
        }
      ],
      "source": [
        "posthoc_layer.analyze_classifier().split(\"\\n\")"
      ]
    },
    {
      "cell_type": "code",
      "execution_count": null,
      "metadata": {},
      "outputs": [],
      "source": []
    }
  ],
  "metadata": {
    "accelerator": "GPU",
    "colab": {
      "gpuType": "T4",
      "provenance": []
    },
    "kernelspec": {
      "display_name": "Python 3",
      "name": "python3"
    },
    "language_info": {
      "codemirror_mode": {
        "name": "ipython",
        "version": 3
      },
      "file_extension": ".py",
      "mimetype": "text/x-python",
      "name": "python",
      "nbconvert_exporter": "python",
      "pygments_lexer": "ipython3",
      "version": "3.11.3"
    }
  },
  "nbformat": 4,
  "nbformat_minor": 0
}
