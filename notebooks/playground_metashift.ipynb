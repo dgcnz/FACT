{
 "cells": [
  {
   "cell_type": "code",
   "execution_count": 1,
   "metadata": {},
   "outputs": [
    {
     "name": "stdout",
     "output_type": "stream",
     "text": [
      "/Users/dgcnz/development/uva/fact/FACT\n",
      "LICENSE                               \u001b[34mnotebooks\u001b[m\u001b[m/\n",
      "README.md                             poetry.lock\n",
      "\u001b[34m__pycache__\u001b[m\u001b[m/                          pyproject.toml\n",
      "\u001b[34martifacts\u001b[m\u001b[m/                            requirements.txt\n",
      "\u001b[34massets\u001b[m\u001b[m/                               \u001b[34mscripts\u001b[m\u001b[m/\n",
      "\u001b[34mconcepts\u001b[m\u001b[m/                             \u001b[34mskl_logs\u001b[m\u001b[m/\n",
      "\u001b[34mconfigs\u001b[m\u001b[m/                              \u001b[34mslurm\u001b[m\u001b[m/\n",
      "\u001b[34mdata\u001b[m\u001b[m/                                 test_cav_activation.py\n",
      "debug.log                             test_different_projections.py\n",
      "debug_finakl.log                      test_sparsity_vs_accuracy.py\n",
      "debug_rn18.log                        train_pcbm.py\n",
      "\u001b[34mdocs\u001b[m\u001b[m/                                 train_pcbm_h.py\n",
      "environment.yaml                      train_pcbm_h_userstudy.py\n",
      "eval_original_model.py                train_pcbm_userstudy.py\n",
      "\u001b[34mexperiments\u001b[m\u001b[m/                          \u001b[34mtraining_tools\u001b[m\u001b[m/\n",
      "learn_concepts_dataset.py             \u001b[34mutils\u001b[m\u001b[m/\n",
      "learn_concepts_multimodal.py          verify_clip_pcbm_h.py\n",
      "\u001b[34mlightning_logs\u001b[m\u001b[m/                       verify_dataset_pcbm.py\n",
      "\u001b[34mlogs\u001b[m\u001b[m/                                 verify_dataset_pcbm_h.py\n",
      "\u001b[34mmodels\u001b[m\u001b[m/                               verify_results_clip_concepts_pcbm.py\n"
     ]
    },
    {
     "name": "stderr",
     "output_type": "stream",
     "text": [
      "/Users/dgcnz/development/uva/fact/FACT/.venv/lib/python3.11/site-packages/IPython/core/magics/osm.py:417: UserWarning: using dhist requires you to install the `pickleshare` library.\n",
      "  self.shell.db['dhist'] = compress_dhist(dhist)[-100:]\n"
     ]
    }
   ],
   "source": [
    "from pathlib import Path\n",
    "if Path().resolve().name == \"notebooks\":\n",
    "    %cd ..\n",
    "%ls"
   ]
  },
  {
   "cell_type": "code",
   "execution_count": 2,
   "metadata": {},
   "outputs": [],
   "source": [
    "import pickle"
   ]
  },
  {
   "cell_type": "code",
   "execution_count": null,
   "metadata": {},
   "outputs": [],
   "source": [
    "def load_candidate_subsets(path: str):\n",
    "    with open(path, \"rb\") as f:\n",
    "        return pickle.load(f)\n",
    "\n",
    "cspath = Path(\"../MetaShift/dataset/meta_data/full-candidate-subsets.pkl\")\n",
    "cs = load_candidate_subsets(path=cspath)"
   ]
  }
 ],
 "metadata": {
  "kernelspec": {
   "display_name": ".venv",
   "language": "python",
   "name": "python3"
  },
  "language_info": {
   "codemirror_mode": {
    "name": "ipython",
    "version": 3
   },
   "file_extension": ".py",
   "mimetype": "text/x-python",
   "name": "python",
   "nbconvert_exporter": "python",
   "pygments_lexer": "ipython3",
   "version": "3.11.3"
  }
 },
 "nbformat": 4,
 "nbformat_minor": 2
}
