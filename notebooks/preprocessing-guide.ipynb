{
 "cells": [
  {
   "cell_type": "markdown",
   "metadata": {},
   "source": [
    "# **Preprocessing Guide for Datasets**"
   ]
  },
  {
   "cell_type": "markdown",
   "metadata": {},
   "source": [
    "In this file, we explain how the datasets for SIIM-ISIC and COCO-Stuff were trimmed down. This was done due to the large size of the original datasets, which made storing the data harder. As such, below we provide the scripts used to trim down both these datasets.\n",
    "\n",
    "As mentioned in the other files, the trimmed down datasets have been uploaded to Hugging Face and can be downloaded via the prepared scripts (which can be found [here](../scripts/download_cocostuff) and [here](../scripts/download_siim))."
   ]
  },
  {
   "cell_type": "markdown",
   "metadata": {},
   "source": [
    "## **COCO-Stuff**"
   ]
  },
  {
   "cell_type": "markdown",
   "metadata": {},
   "source": [
    "Due to how the original dataset was initially setup for multi-object classification, the processing required is somewhat complex by nature. An overview of such processing would be:\n",
    "\n",
    "1. Select all images containing the target label for each label.\n",
    "2. Group all the labels based on the image containing it and export as a JSON dict file.\n",
    "3. Obtain all the unique directories required as an image can have multiple class labels in a list.\n",
    "4. Save all the unique images obtained in a new folder.\n",
    "\n",
    "This should obtain the same dataset as in the link, assuming all the files are in-place."
   ]
  },
  {
   "cell_type": "code",
   "execution_count": null,
   "metadata": {},
   "outputs": [],
   "source": []
  },
  {
   "cell_type": "markdown",
   "metadata": {},
   "source": [
    "## **SIIM-ISIC**"
   ]
  },
  {
   "cell_type": "markdown",
   "metadata": {},
   "source": [
    "For this dataset, the process mainly involved just selecting 2000 images from the original and ensuring that all the label splits are correct."
   ]
  },
  {
   "cell_type": "code",
   "execution_count": null,
   "metadata": {},
   "outputs": [],
   "source": []
  }
 ],
 "metadata": {
  "kernelspec": {
   "display_name": "fact",
   "language": "python",
   "name": "python3"
  },
  "language_info": {
   "codemirror_mode": {
    "name": "ipython",
    "version": 3
   },
   "file_extension": ".py",
   "mimetype": "text/x-python",
   "name": "python",
   "nbconvert_exporter": "python",
   "pygments_lexer": "ipython3",
   "version": "3.11.7"
  }
 },
 "nbformat": 4,
 "nbformat_minor": 2
}
